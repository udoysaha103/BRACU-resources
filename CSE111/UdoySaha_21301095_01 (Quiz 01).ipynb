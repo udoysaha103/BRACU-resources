{
 "cells": [
  {
   "cell_type": "code",
   "execution_count": 1,
   "id": "cff79674",
   "metadata": {},
   "outputs": [
    {
     "name": "stdout",
     "output_type": "stream",
     "text": [
      "{'Forward': {'Brazil': ('Firmino', 'Gabriel'), 'Argentina': ('Messi', 'Aguero'), 'Germany': ('Klose', 'Werner')}, 'Midfielder': {'Brazil': ('Casemiro', 'Fred'), 'Germany': 'Toni'}}\n"
     ]
    }
   ],
   "source": [
    "my_tuple = ((\"Firmino\", 1101),(\"Gabriel\", 1201),(\"Casemiro\", 1302),(\"Fred\", 1402),(\"Messi\", 1111),(\"Aguero\", 1211),(\"Klose\", 1121), (\"Werner\", 1221), (\"Toni\", 1322))\n",
    "\n",
    "player_position = {\n",
    "    '1': \"Forward\",\n",
    "    '2': \"Midfielder\"\n",
    "}\n",
    "\n",
    "player_country = {\n",
    "    '0': \"Brazil\",\n",
    "    '1': \"Argentina\",\n",
    "    '2': \"Germany\"\n",
    "}\n",
    "\n",
    "my_dict = {}\n",
    "\n",
    "for name, player_id in my_tuple:\n",
    "    position = player_position[(str(player_id))[-1]]\n",
    "    country = player_country[(str(player_id))[-2]]\n",
    "\n",
    "    if position not in my_dict.keys():\n",
    "        my_dict.update({position: {}})\n",
    "\n",
    "    if country not in my_dict[position].keys():\n",
    "        my_dict[position][country] = name\n",
    "    else:\n",
    "        my_dict[position][country] = (my_dict[position][country],) + (name,)\n",
    "\n",
    "print(my_dict)"
   ]
  }
 ],
 "metadata": {
  "kernelspec": {
   "display_name": "Python 3",
   "language": "python",
   "name": "python3"
  },
  "language_info": {
   "codemirror_mode": {
    "name": "ipython",
    "version": 3
   },
   "file_extension": ".py",
   "mimetype": "text/x-python",
   "name": "python",
   "nbconvert_exporter": "python",
   "pygments_lexer": "ipython3",
   "version": "3.8.8"
  }
 },
 "nbformat": 4,
 "nbformat_minor": 5
}
