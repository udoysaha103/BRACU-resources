{
 "cells": [
  {
   "cell_type": "code",
   "execution_count": 9,
   "id": "6ce2fe80",
   "metadata": {},
   "outputs": [],
   "source": [
    "##############################################\n",
    "#------------------String--------------------#\n",
    "##############################################"
   ]
  },
  {
   "cell_type": "code",
   "execution_count": 14,
   "id": "c888d742",
   "metadata": {},
   "outputs": [
    {
     "name": "stdout",
     "output_type": "stream",
     "text": [
      "banana\n"
     ]
    }
   ],
   "source": [
    "#1\n",
    "\n",
    "given_string = \"BaNaNa\"\n",
    "\n",
    "upper_count = 0\n",
    "lower_count = 0\n",
    "\n",
    "for letter in given_string:\n",
    "    if (letter >= \"A\") and (letter <= \"Z\"):\n",
    "        upper_count += 1\n",
    "    else:\n",
    "        lower_count += 1\n",
    "\n",
    "if upper_count > lower_count:\n",
    "    print(given_string.upper())\n",
    "else:\n",
    "    print(given_string.lower())"
   ]
  },
  {
   "cell_type": "code",
   "execution_count": 15,
   "id": "e6d35a1a",
   "metadata": {},
   "outputs": [
    {
     "name": "stdout",
     "output_type": "stream",
     "text": [
      "NUMBER\n"
     ]
    }
   ],
   "source": [
    "#2\n",
    "\n",
    "given_string = \"21323\"\n",
    "\n",
    "letter = False\n",
    "digit = False\n",
    "\n",
    "for character in given_string:\n",
    "    if (character >= \"0\") and (character <= \"9\"):\n",
    "        digit = True\n",
    "    else:\n",
    "        letter = True\n",
    "\n",
    "if letter and digit:\n",
    "    print(\"MIXED\")\n",
    "elif letter:\n",
    "    print(\"WORD\")\n",
    "else:\n",
    "    print(\"NUMBER\")"
   ]
  },
  {
   "cell_type": "code",
   "execution_count": 16,
   "id": "80b92df1",
   "metadata": {},
   "outputs": [
    {
     "name": "stdout",
     "output_type": "stream",
     "text": [
      "glad\n"
     ]
    }
   ],
   "source": [
    "#3\n",
    "\n",
    "given_string = \"baNgladEsh\"\n",
    "\n",
    "first_upper_index = second_upper_index = None\n",
    "\n",
    "for index in range(len(given_string)):\n",
    "    if (given_string[index] >= \"A\") and (given_string[index] <= \"Z\"):\n",
    "        first_upper_index = index\n",
    "        break\n",
    "\n",
    "for index in range(len(given_string)-1, first_upper_index, -1):\n",
    "    if (given_string[index] >= \"A\") and (given_string[index] <= \"Z\"):\n",
    "        second_upper_index = index\n",
    "        break\n",
    "\n",
    "substring = given_string[first_upper_index + 1: second_upper_index]\n",
    "\n",
    "if len(substring) == 0:\n",
    "    print(\"BLANK\")\n",
    "else:\n",
    "    print(substring)"
   ]
  },
  {
   "cell_type": "code",
   "execution_count": 17,
   "id": "8525f188",
   "metadata": {},
   "outputs": [
    {
     "name": "stdout",
     "output_type": "stream",
     "text": [
      "The book is not excellent!\n"
     ]
    }
   ],
   "source": [
    "#4\n",
    "\n",
    "given_string = \"The book is not too good!\"\n",
    "\n",
    "too_index = good_index = None\n",
    "\n",
    "for index in range(len(given_string)):    # finding 'too'\n",
    "    if given_string[index] == 't':\n",
    "        if (given_string[index + 1] == 'o') and (given_string[index + 2] == 'o'):\n",
    "            too_index = index\n",
    "            break\n",
    "\n",
    "for index in range(len(given_string)):    # finding 'good'\n",
    "    if given_string[index] == 'g':\n",
    "        if (given_string[index + 1] == 'o') and (given_string[index + 2] == 'o') and (given_string[index + 3] == 'd'):\n",
    "            good_index = index\n",
    "            break\n",
    "\n",
    "if (too_index != None) and (good_index != None):\n",
    "    if good_index == too_index + 4:    # as 'g' of 'good' will be 4 characters post to 't' of 'too'\n",
    "        given_string = list(given_string)\n",
    "\n",
    "        given_string[too_index + 0] = 'e'    # t\n",
    "        given_string[too_index + 1] = 'x'    # o\n",
    "        given_string[too_index + 2] = 'c'    # o\n",
    "        given_string[too_index + 3] = 'e'    # _\n",
    "        given_string[too_index + 4] = 'l'    # g\n",
    "        given_string[too_index + 5] = 'l'    # o\n",
    "        given_string[too_index + 6] = 'e'    # o\n",
    "        given_string[too_index + 7] = 'n'    # d\n",
    "        \n",
    "        given_string.insert(too_index + 8, 't')\n",
    "\n",
    "        given_string = \"\".join(given_string)\n",
    "\n",
    "print(given_string)"
   ]
  },
  {
   "cell_type": "code",
   "execution_count": 7,
   "id": "f334c907",
   "metadata": {},
   "outputs": [
    {
     "name": "stdout",
     "output_type": "stream",
     "text": [
      "hrrhr\n"
     ]
    }
   ],
   "source": [
    "#5\n",
    "\n",
    "given_string_1 = \"harry\"\n",
    "given_string_2 = \"hermione\"\n",
    "\n",
    "new_string = \"\"\n",
    "\n",
    "for letter in given_string_1:    # taking characters from the 1st string\n",
    "    if letter in given_string_2:\n",
    "        new_string += letter\n",
    "\n",
    "for letter in given_string_2:    # taking characters from the 2nd string\n",
    "    if letter in given_string_1:\n",
    "        new_string += letter\n",
    "\n",
    "if len(new_string) == 0:\n",
    "    print(\"Nothing in common.\")\n",
    "else:\n",
    "    print(new_string)"
   ]
  },
  {
   "cell_type": "code",
   "execution_count": 18,
   "id": "33747373",
   "metadata": {},
   "outputs": [
    {
     "name": "stdout",
     "output_type": "stream",
     "text": [
      "Uppercase character missing, Digit missing, Special character missing\n"
     ]
    }
   ],
   "source": [
    "#6\n",
    "\n",
    "given_password = \"ohmybracu\"\n",
    "\n",
    "password_check = {\"Lowercase character\" : False,\n",
    "                  \"Uppercase character\" : False,\n",
    "                  \"Digit\" : False,\n",
    "                  \"Special character\" : False}\n",
    "\n",
    "for character in given_password:    # Rules checking \n",
    "    if (character >= 'a') and (character <= 'z'):\n",
    "        password_check.update({\"Lowercase character\" : True})\n",
    "    elif (character >= 'A') and (character <= 'Z'):\n",
    "        password_check.update({\"Uppercase character\" : True})\n",
    "    elif (character >= '0') and (character <= '9'):\n",
    "        password_check.update({\"Digit\" : True})\n",
    "    elif character in ['_', '$', '#', '@']:\n",
    "        password_check.update({\"Special character\" : True})\n",
    "\n",
    "if False in password_check.values():    # checking for any fault in the password\n",
    "    message = []    # list of faults\n",
    "\n",
    "    for key, val in password_check.items():\n",
    "        if val == False:\n",
    "            message.append(key + \" missing\")\n",
    "\n",
    "    print(\", \".join(message))\n",
    "\n",
    "else:    # perfect password\n",
    "    print(\"OK\")"
   ]
  },
  {
   "cell_type": "code",
   "execution_count": 10,
   "id": "72454195",
   "metadata": {},
   "outputs": [],
   "source": [
    "##############################################\n",
    "#-------------------List---------------------#\n",
    "##############################################"
   ]
  },
  {
   "cell_type": "code",
   "execution_count": 15,
   "id": "36a2d5ce",
   "metadata": {},
   "outputs": [
    {
     "name": "stdout",
     "output_type": "stream",
     "text": [
      "Please enter a number : 10\n",
      "Please enter a number : 20\n",
      "Please enter a number : 20\n",
      "Please enter a number : 30\n",
      "Please enter a number : 10\n",
      "Please enter a number : 50\n",
      "Please enter a number : 90\n",
      "Please enter a number : STOP\n",
      "\n",
      "10 - 2 times\n",
      "20 - 2 times\n",
      "30 - 1 times\n",
      "50 - 1 times\n",
      "90 - 1 times\n"
     ]
    }
   ],
   "source": [
    "#1\n",
    "\n",
    "my_list = []\n",
    "\n",
    "while True:\n",
    "    user_input = input(\"Please enter a number : \")\n",
    "\n",
    "    if user_input == \"STOP\":\n",
    "        break\n",
    "    else:\n",
    "        try:\n",
    "            user_input = int(user_input)\n",
    "            my_list.append(user_input)\n",
    "        except:\n",
    "            print(\"Invalid number!\")\n",
    "\n",
    "unique_elements = list(set(my_list))    # separating the unique elements\n",
    "unique_elements.sort()\n",
    "\n",
    "print()    # separating output\n",
    "\n",
    "for number in unique_elements:\n",
    "    print(f\"{number} - {my_list.count(number)} times\")"
   ]
  },
  {
   "cell_type": "code",
   "execution_count": 23,
   "id": "3a7703a2",
   "metadata": {},
   "outputs": [
    {
     "name": "stdout",
     "output_type": "stream",
     "text": [
      "Please enter the number of lists : 4\n",
      "Please enter the elements of current list (separated by Whitespace) : 1 2 3\n",
      "Please enter the elements of current list (separated by Whitespace) : 4 5 6\n",
      "Please enter the elements of current list (separated by Whitespace) : 10 11 12\n",
      "Please enter the elements of current list (separated by Whitespace) : 5 6 7\n",
      "\n",
      "33\n",
      "[10, 11, 12]\n"
     ]
    }
   ],
   "source": [
    "#2\n",
    "\n",
    "number_of_list = int(input(\"Please enter the number of lists : \"))\n",
    "all_list = []\n",
    "\n",
    "for _ in range(number_of_list):    # taking all the lists as input\n",
    "    new_list = list(map(int, input(\"Please enter the elements of current list (separated by Whitespace) : \").split()))\n",
    "    all_list.append(new_list)\n",
    "\n",
    "sum_list = []    # a list to store all the sums\n",
    "\n",
    "for each_list in all_list:    # taking the summation of each list\n",
    "    sum_list.append(sum(each_list))\n",
    "\n",
    "highest = max(sum_list)\n",
    "highest_index = None\n",
    "\n",
    "for index in range(len(sum_list)):    # finding the index of the highest sum\n",
    "    if sum_list[index] == highest:\n",
    "        highest_index = index\n",
    "        break\n",
    "\n",
    "print()    # blank line as output decoration\n",
    "print(sum_list[highest_index])\n",
    "print(all_list[highest_index])"
   ]
  },
  {
   "cell_type": "code",
   "execution_count": 16,
   "id": "dc357805",
   "metadata": {},
   "outputs": [
    {
     "name": "stdout",
     "output_type": "stream",
     "text": [
      "[6, 8, 10, 9, 12, 15, 18, 24, 30]\n"
     ]
    }
   ],
   "source": [
    "#3\n",
    "\n",
    "given_list_1 = [2, 3, 6]\n",
    "given_list_2 = [3, 4, 5]\n",
    "\n",
    "final_list = []\n",
    "\n",
    "for index_1 in range(len(given_list_1)):\n",
    "    for index_2 in range(len(given_list_2)):\n",
    "        new = given_list_1[index_1] * given_list_2[index_2]\n",
    "        final_list.append(new)\n",
    "\n",
    "print(final_list)"
   ]
  },
  {
   "cell_type": "code",
   "execution_count": 18,
   "id": "49834ce4",
   "metadata": {},
   "outputs": [
    {
     "name": "stdout",
     "output_type": "stream",
     "text": [
      "Please enter the elements of the list (separated by Whitespace) : 1 4 2 3\n",
      "UB Jumper\n",
      "Please enter the elements of the list (separated by Whitespace) : 2 1 4 6 10\n",
      "UB Jumper\n",
      "Please enter the elements of the list (separated by Whitespace) : 1 4 2 -1 6\n",
      "Not UB Jumper\n",
      "Please enter the elements of the list (separated by Whitespace) : STOP\n"
     ]
    }
   ],
   "source": [
    "#4\n",
    "\n",
    "while True:\n",
    "    user_input = input(\"Please enter the elements of the list (separated by Whitespace) : \")\n",
    "    if user_input == \"STOP\":\n",
    "        break\n",
    "\n",
    "    new_list = list(map(int, user_input.split()))\n",
    "    length = len(new_list)\n",
    "    absolute_differences = []    # list to store the absolute differences\n",
    "\n",
    "    for index in range(1, length):    # calculating absolute differences\n",
    "        absolute_differences.append(abs(new_list[index] - new_list[index-1]))\n",
    "\n",
    "    absolute_differences.sort()\n",
    "\n",
    "    check = True\n",
    "    for number_now in range(1, length):    # checking if there is numbers from 1 to length-1\n",
    "        if number_now != absolute_differences[number_now-1]:\n",
    "            check = False\n",
    "            break\n",
    "\n",
    "    if check:\n",
    "        print(\"UB Jumper\")\n",
    "    else:\n",
    "        print(\"Not UB Jumper\")"
   ]
  },
  {
   "cell_type": "code",
   "execution_count": 20,
   "id": "9c07be81",
   "metadata": {},
   "outputs": [
    {
     "name": "stdout",
     "output_type": "stream",
     "text": [
      "acruB1324\n"
     ]
    }
   ],
   "source": [
    "#5\n",
    "\n",
    "given_string = \"Bracu1234\"\n",
    "\n",
    "lower_cases = []\n",
    "upper_cases = []\n",
    "odd_digits = []\n",
    "even_digits = []\n",
    "\n",
    "for character in given_string:    # separating each kind of character\n",
    "    if (character >= 'a') and (character <= 'z'):\n",
    "        lower_cases.append(character)\n",
    "    elif (character >= 'A') and (character <= 'Z'):\n",
    "        upper_cases.append(character)\n",
    "    else:\n",
    "        number = int(character)\n",
    "\n",
    "        if number % 2 == 0:\n",
    "            even_digits.append(character)\n",
    "        else:\n",
    "            odd_digits.append(character)\n",
    "\n",
    "lower_cases.sort()\n",
    "upper_cases.sort()\n",
    "odd_digits.sort()\n",
    "even_digits.sort()\n",
    "\n",
    "final_output = \"\".join(lower_cases) + \"\".join(upper_cases) + \"\".join(odd_digits) + \"\".join(even_digits)\n",
    "print(final_output)"
   ]
  },
  {
   "cell_type": "code",
   "execution_count": 22,
   "id": "a01d0001",
   "metadata": {},
   "outputs": [
    {
     "name": "stdout",
     "output_type": "stream",
     "text": [
      "Please enter how many students are there and how many times they need to perform : 6 5\n",
      "Please enter the times the students have participated : 0 0 0 0 0 0\n",
      "\n",
      "2\n"
     ]
    }
   ],
   "source": [
    "#6\n",
    "\n",
    "number_of_students, contest_times = list(map(int, input(\"Please enter how many students are there and how many times they need to perform : \").split()))\n",
    "contestants = list(map(int, input(\"Please enter the times the students have participated : \").split()))\n",
    "\n",
    "contestants.sort()    # sorting for convenience\n",
    "\n",
    "possible_team = number_of_students // 3\n",
    "\n",
    "# dividing the possible teams\n",
    "teams = []\n",
    "index = 0\n",
    "for _ in range(possible_team):\n",
    "    teams.append(contestants[index : index + 3])\n",
    "    index += 3\n",
    "\n",
    "maximum_number_of_teams = 0\n",
    "\n",
    "for team in teams:\n",
    "    if team[-1] + contest_times <= 5:    # if the last member, who has participated the most (because we have sorted the values before), participates as many times as the head wants and if the number goes beyond 5, it will not be a valid team\n",
    "        maximum_number_of_teams += 1\n",
    "\n",
    "print()    # blank line as output decoration\n",
    "print(maximum_number_of_teams)"
   ]
  },
  {
   "cell_type": "code",
   "execution_count": 5,
   "id": "f67911d0",
   "metadata": {},
   "outputs": [],
   "source": [
    "##############################################\n",
    "#-----------Dictionary / Tuple---------------#\n",
    "##############################################"
   ]
  },
  {
   "cell_type": "code",
   "execution_count": 1,
   "id": "c8b40f2b",
   "metadata": {},
   "outputs": [
    {
     "name": "stdout",
     "output_type": "stream",
     "text": [
      "Please enter the dictionary in key:value format (items separated by comma) : a: 100, b: 100, c: 200, d: 300\n",
      "Please enter the dictionary in key:value format (items separated by comma) : a: 300, b: 200, d: 400, e: 200\n",
      "\n",
      "{'a': 400, 'b': 300, 'c': 200, 'd': 700, 'e': 200}\n",
      "Values: (200, 300, 400, 700)\n"
     ]
    }
   ],
   "source": [
    "#1\n",
    "\n",
    "def get_dict_input():\n",
    "    ''' A function to take a dictionary as input in the form of key:value and items separated by comma '''\n",
    "    \n",
    "    my_dict = {}    # the main dictionary to return\n",
    "    new = input(\"Please enter the dictionary in key:value format (items separated by comma) : \").split(',')\n",
    "\n",
    "    for element in new:    # pushing each element into the dictionary\n",
    "        key, val = element.split(\":\")\n",
    "        key = key.strip()\n",
    "        val = int(val)\n",
    "\n",
    "        my_dict.update({key : val})\n",
    "\n",
    "    return my_dict\n",
    "\n",
    "\n",
    "if __name__ == \"__main__\":\n",
    "    dict_1 = get_dict_input()\n",
    "    dict_2 = get_dict_input()\n",
    "\n",
    "    final_dict = dict_1.copy()    # 1st dictionary is in the final dictionary now\n",
    "\n",
    "    for key, val in dict_2.items():   # analyzing 2nd dictionary and inserting its values in the final dictionary\n",
    "        if key in final_dict.keys():\n",
    "            final_dict.update({key : (final_dict[key] + val)})\n",
    "        else:\n",
    "            final_dict.update({key : val})\n",
    "\n",
    "    raw_values = final_dict.values()    # taking all the values from the dictionary without checking for duplicates\n",
    "    final_values = []    # list to store non-duplicate values\n",
    "\n",
    "    for item in raw_values:    # filtering duplicate values\n",
    "        if item not in final_values:\n",
    "            final_values.append(item)\n",
    "\n",
    "    final_values.sort()    # sorting distinct values\n",
    "    final_values = tuple(final_values)    # turning it into a tuple\n",
    "\n",
    "    print()    # blank line as output decoration\n",
    "    print(final_dict)\n",
    "    print(\"Values:\", final_values)"
   ]
  },
  {
   "cell_type": "code",
   "execution_count": 4,
   "id": "71d0398b",
   "metadata": {},
   "outputs": [
    {
     "name": "stdout",
     "output_type": "stream",
     "text": [
      "Please enter a number ('STOP' to end) : 10\n",
      "Please enter a number ('STOP' to end) : 20\n",
      "Please enter a number ('STOP' to end) : 20\n",
      "Please enter a number ('STOP' to end) : 30\n",
      "Please enter a number ('STOP' to end) : 10\n",
      "Please enter a number ('STOP' to end) : 50\n",
      "Please enter a number ('STOP' to end) : 90\n",
      "Please enter a number ('STOP' to end) : STOP\n",
      "10 - 2 times\n",
      "20 - 2 times\n",
      "30 - 1 times\n",
      "50 - 1 times\n",
      "90 - 1 times\n"
     ]
    }
   ],
   "source": [
    "#2\n",
    "\n",
    "my_dictionary = {}    # dictionary to store the data\n",
    "\n",
    "while True:\n",
    "    user_input = input(\"Please enter a number (\\'STOP\\' to end) : \")\n",
    "\n",
    "    if user_input == \"STOP\":\n",
    "        break\n",
    "    else:\n",
    "        user_input = int(user_input)\n",
    "\n",
    "        if user_input in my_dictionary.keys():    # increasing the number of occurrence\n",
    "            my_dictionary.update({user_input : my_dictionary[user_input] + 1})\n",
    "        else:    # adding the new number with 1 as occurrence number\n",
    "            my_dictionary.update({user_input : 1})\n",
    "\n",
    "for key, val in my_dictionary.items():\n",
    "    print(f\"{key} - {val} times\")"
   ]
  },
  {
   "cell_type": "code",
   "execution_count": 7,
   "id": "2c0770e9",
   "metadata": {},
   "outputs": [
    {
     "name": "stdout",
     "output_type": "stream",
     "text": [
      "Please enter the dictionary in key:value format (items separated by comma) : key1 : value1, key2 : value2, key3 : value1\n",
      "\n",
      "{\"value1\": [\"key1\", \"key3\"], \"value2\": [\"key2\"]}"
     ]
    }
   ],
   "source": [
    "#3\n",
    "\n",
    "def get_dict_input():\n",
    "    '''A function to take a dictionary as input in the form of key:value and items separated by comma'''\n",
    "\n",
    "    my_dict = {}  # the main dictionary to return\n",
    "    new = input(\"Please enter the dictionary in key:value format (items separated by comma) : \").split(',')\n",
    "\n",
    "    for element in new:  # pushing each element into the dictionary\n",
    "        key, val = element.split(\":\")\n",
    "        key = key.strip()\n",
    "        val = val.strip()\n",
    "\n",
    "        my_dict.update({key: val})\n",
    "\n",
    "    return my_dict\n",
    "\n",
    "\n",
    "if __name__ == \"__main__\":\n",
    "    raw_dictionary = get_dict_input()    # user dictionary\n",
    "    final_dictionary = {}    # dictionary containing the inverse of user dictionary\n",
    "\n",
    "    for key, val in raw_dictionary.items():    # pushing the elements to the final dictionary in inverse form\n",
    "        if val in final_dictionary.keys():\n",
    "            final_dictionary[val].append(key)\n",
    "        else:\n",
    "            final_dictionary.update({val : [key]})\n",
    "\n",
    "    print()    # blank line as output decoration\n",
    "\n",
    "    # formatting the output to get the keys and values within double quotes\n",
    "    print(\"{\", end = \"\")\n",
    "\n",
    "    output = []\n",
    "\n",
    "    for key, val in final_dictionary.items():\n",
    "        current_string = \"\"\n",
    "        \n",
    "        current_string += f\"\\\"{key}\\\": \"\n",
    "\n",
    "        current_string += \"[\"\n",
    "        \n",
    "        current_string += f\"\\\"{val[0]}\\\"\"\n",
    "        for item in val[1:]:\n",
    "            current_string += f\", \\\"{item}\\\"\"\n",
    "            \n",
    "        current_string += \"]\"\n",
    "\n",
    "        output.append(current_string)\n",
    "\n",
    "    print(\", \".join(output), end = \"\")\n",
    "\n",
    "    print(\"}\", end=\"\")"
   ]
  },
  {
   "cell_type": "code",
   "execution_count": 4,
   "id": "7784f12a",
   "metadata": {},
   "outputs": [
    {
     "name": "stdout",
     "output_type": "stream",
     "text": [
      "Please enter the first string : live\n",
      "Please enter the second string : evil\n",
      "\n",
      "Those strings are anagrams.\n"
     ]
    }
   ],
   "source": [
    "#4\n",
    "\n",
    "def dict_maker(source_string):\n",
    "    ''' A function to turn a string to a dictionary '''\n",
    "    \n",
    "    new_dict = {}\n",
    "\n",
    "    for letter in source_string:    # constructing the new dictionary\n",
    "        if letter in new_dict.keys():  # increasing the number of occurrence\n",
    "            new_dict.update({letter: new_dict[letter] + 1})\n",
    "        else:  # adding the new number with 1 as occurrence number\n",
    "            new_dict.update({letter: 1})\n",
    "\n",
    "    return new_dict\n",
    "\n",
    "\n",
    "if __name__ == \"__main__\":\n",
    "    string_1 = input(\"Please enter the first string : \")\n",
    "    string_2 = input(\"Please enter the second string : \")\n",
    "\n",
    "    # turning the inputs into dictionaries\n",
    "    dict_1 = dict_maker(string_1)\n",
    "    dict_2 = dict_maker(string_2)\n",
    "\n",
    "    dissimilarity_checker = False\n",
    "    \n",
    "    for key in dict_1.keys():    # checking for any dissimilarity in the two dictionaries\n",
    "        if dict_1.get(key) != dict_2.get(key):\n",
    "            dissimilarity_checker = True\n",
    "            break\n",
    "    \n",
    "    print()    # blank line as output decoration\n",
    "    \n",
    "    if dissimilarity_checker == False:     # no mismatch\n",
    "        if string_1 != string_2:    # if there is no mismatch and the stirngs are not identical, then they will be anagram\n",
    "            print(\"Those strings are anagrams.\")\n",
    "        else:    # not anagram, because the strings are identical\n",
    "            print(\"Those strings are not anagrams.\")\n",
    "    else:    # mismatch found, not anagram\n",
    "        print(\"Those strings are not anagrams.\")"
   ]
  },
  {
   "cell_type": "code",
   "execution_count": 12,
   "id": "9fc47657",
   "metadata": {},
   "outputs": [
    {
     "name": "stdout",
     "output_type": "stream",
     "text": [
      "Please enter a string : Hello, World!\n",
      "\n",
      "4433555555666110966677755531111"
     ]
    }
   ],
   "source": [
    "#5\n",
    "\n",
    "key_press = {\".\": \"1\",\n",
    "             \",\": \"11\",\n",
    "             \"?\": \"111\",\n",
    "             \"!\": \"1111\",\n",
    "             \":\": \"11111\",\n",
    "             \"A\": \"2\",\n",
    "             \"B\": \"22\",\n",
    "             \"C\": \"222\",\n",
    "             \"D\": \"3\",\n",
    "             \"E\": \"33\",\n",
    "             \"F\": \"333\",\n",
    "             \"G\": \"4\",\n",
    "             \"H\": \"44\",\n",
    "             \"I\": \"444\",\n",
    "             \"J\": \"5\",\n",
    "             \"K\": \"55\",\n",
    "             \"L\": \"555\",\n",
    "             \"M\": \"6\",\n",
    "             \"N\": \"66\",\n",
    "             \"O\": \"666\",\n",
    "             \"P\": \"7\",\n",
    "             \"Q\": \"77\",\n",
    "             \"R\": \"777\",\n",
    "             \"S\": \"7777\",\n",
    "             \"T\": \"8\",\n",
    "             \"U\": \"88\",\n",
    "             \"V\": \"888\",\n",
    "             \"W\": \"9\",\n",
    "             \"X\": \"99\",\n",
    "             \"Y\": \"999\",\n",
    "             \"Z\": \"9999\",\n",
    "             \" \": \"0\"}\n",
    "\n",
    "user_input = input(\"Please enter a string : \")\n",
    "\n",
    "print()    # blank line as output decoration\n",
    "\n",
    "for character in user_input:\n",
    "    print(key_press[character.upper()], end = \"\")"
   ]
  }
 ],
 "metadata": {
  "kernelspec": {
   "display_name": "Python 3",
   "language": "python",
   "name": "python3"
  },
  "language_info": {
   "codemirror_mode": {
    "name": "ipython",
    "version": 3
   },
   "file_extension": ".py",
   "mimetype": "text/x-python",
   "name": "python",
   "nbconvert_exporter": "python",
   "pygments_lexer": "ipython3",
   "version": "3.8.8"
  }
 },
 "nbformat": 4,
 "nbformat_minor": 5
}
