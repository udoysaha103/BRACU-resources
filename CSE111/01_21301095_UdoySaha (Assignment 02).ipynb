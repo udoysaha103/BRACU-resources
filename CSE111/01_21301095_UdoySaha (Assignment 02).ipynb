{
 "cells": [
  {
   "cell_type": "code",
   "execution_count": 26,
   "id": "b20d428c",
   "metadata": {},
   "outputs": [
    {
     "name": "stdout",
     "output_type": "stream",
     "text": [
      "0.5\n"
     ]
    }
   ],
   "source": [
    "#1\n",
    "\n",
    "def fraction_finder(numerator, denominator):\n",
    "    '''A function that returns the fractional part after division'''\n",
    "    \n",
    "    if denominator == 0:\n",
    "        return 0\n",
    "    else:\n",
    "        quotient = numerator / denominator\n",
    "\n",
    "        quotient_in_int = int(quotient)\n",
    "        fraction = quotient - quotient_in_int\n",
    "\n",
    "        if fraction == 0.0:\n",
    "            return 0\n",
    "        else:\n",
    "            return abs(fraction)\n",
    "\n",
    "\n",
    "if __name__ == \"__main__\":\n",
    "    fraction_part = fraction_finder(6, 4)\n",
    "    print(fraction_part)\n"
   ]
  },
  {
   "cell_type": "code",
   "execution_count": 27,
   "id": "da68f5c0",
   "metadata": {},
   "outputs": [
    {
     "name": "stdout",
     "output_type": "stream",
     "text": [
      "Score is 31.3. You are Obese\n"
     ]
    }
   ],
   "source": [
    "#2\n",
    "\n",
    "def bmi(height_cm, weight_kg):\n",
    "    '''A function that calculates the bmi'''\n",
    "\n",
    "    height_meter = height_cm / 100\n",
    "    \n",
    "    your_bmi = weight_kg / (height_meter ** 2)\n",
    "    your_bmi = round(your_bmi, 1)    # rounding up the bmi with 1 digit after the decimal point\n",
    "    \n",
    "    remarks = None\n",
    "\n",
    "    if your_bmi < 18.5:\n",
    "        remarks = \"Underweight\"\n",
    "    elif (your_bmi >= 18.5) and (your_bmi <= 24.9):\n",
    "        remarks = \"Normal\"\n",
    "    elif (your_bmi >= 25) and (your_bmi <= 30):\n",
    "        remarks = \"Overweight\"\n",
    "    else:\n",
    "        remarks = \"Obese\"\n",
    "\n",
    "    print(f\"Score is {your_bmi}. You are {remarks}\")\n",
    "\n",
    "\n",
    "if __name__ == \"__main__\":\n",
    "    bmi(175, 96)\n"
   ]
  },
  {
   "cell_type": "code",
   "execution_count": 14,
   "id": "0b988291",
   "metadata": {},
   "outputs": [
    {
     "name": "stdout",
     "output_type": "stream",
     "text": [
      "45\n"
     ]
    }
   ],
   "source": [
    "#3\n",
    "\n",
    "def sum_of_divisibles(minimum, maximum, divisor):\n",
    "    '''A function that returns the sum of all the divisibles of a given range'''\n",
    "\n",
    "    summation = 0\n",
    "\n",
    "    for number in range(minimum, maximum):\n",
    "        if number % divisor == 0:\n",
    "            summation += number\n",
    "\n",
    "    return summation\n",
    "\n",
    "\n",
    "if __name__ == \"__main__\":\n",
    "    print(sum_of_divisibles(3, 16, 3))\n"
   ]
  },
  {
   "cell_type": "code",
   "execution_count": 30,
   "id": "a3317600",
   "metadata": {},
   "outputs": [
    {
     "name": "stdout",
     "output_type": "stream",
     "text": [
      "223.6\n"
     ]
    }
   ],
   "source": [
    "#4\n",
    "\n",
    "menu = {\n",
    "    \"BBQ Chicken Cheese Burger\": 250,\n",
    "    \"Beef Burger\": 170,\n",
    "    \"Naga Drums\": 200\n",
    "}\n",
    "\n",
    "\n",
    "def total_price_calculator(name_from_menu, place = \"Mohakhali\"):\n",
    "    '''A function that returns the total price including delivery charge and tax'''\n",
    "\n",
    "    meal_cost = menu.get(name_from_menu)\n",
    "    delivery_charge = None\n",
    "    tax = meal_cost * 8 / 100\n",
    "\n",
    "    if place == \"Mohakhali\":\n",
    "        delivery_charge = 40\n",
    "    else:\n",
    "        delivery_charge = 60\n",
    "\n",
    "    total_price = meal_cost + delivery_charge + tax\n",
    "    \n",
    "    print(total_price)\n",
    "\n",
    "\n",
    "if __name__ == \"__main__\":\n",
    "    total_price_calculator(\"Beef Burger\", \"Mohakhali\")\n"
   ]
  },
  {
   "cell_type": "code",
   "execution_count": 31,
   "id": "6f832e50",
   "metadata": {},
   "outputs": [
    {
     "name": "stdout",
     "output_type": "stream",
     "text": [
      "Unchanged: bob@sheba.xyz\n"
     ]
    }
   ],
   "source": [
    "#5\n",
    "\n",
    "def replace_domain(email, new_domain, old_domain = \"kaaj.com\"):\n",
    "    '''A function that changes the domain name of an email address'''\n",
    "\n",
    "    at_symbol_index = email.find('@')\n",
    "\n",
    "    if new_domain in email[at_symbol_index + 1 : ]:    # already in new domain\n",
    "        return \"Unchanged: \" + email\n",
    "        \n",
    "    else:    # needs to change the domain\n",
    "        new_email = email[: at_symbol_index + 1] + new_domain\n",
    "        \n",
    "        return \"Changed: \" + new_email\n",
    "\n",
    "\n",
    "if __name__ == \"__main__\":\n",
    "    print(replace_domain(\"bob@sheba.xyz\", \"sheba.xyz\"))\n"
   ]
  },
  {
   "cell_type": "code",
   "execution_count": 33,
   "id": "b79a295f",
   "metadata": {},
   "outputs": [
    {
     "name": "stdout",
     "output_type": "stream",
     "text": [
      "No vowels in the name\n"
     ]
    }
   ],
   "source": [
    "#6\n",
    "\n",
    "def vowel_finder(full_name):\n",
    "    '''A function that finds the vowels and number of vowels'''\n",
    "\n",
    "    vowels = []\n",
    "\n",
    "    for character in full_name:\n",
    "        if character.lower() in ['a', 'e', 'i', 'o', 'u']:\n",
    "            vowels.append(character)\n",
    "\n",
    "    if len(vowels) == 0:\n",
    "        print(\"No vowels in the name\")\n",
    "    else:\n",
    "        print(\"Vowels:\", vowels[0], end = \"\")\n",
    "\n",
    "        for character in vowels[1:]:\n",
    "            print(\",\", character, end = \"\")\n",
    "\n",
    "        print(\". Total number of vowels:\", len(vowels))\n",
    "\n",
    "\n",
    "if __name__ == \"__main__\":\n",
    "    vowel_finder(\"XYZ\")\n"
   ]
  },
  {
   "cell_type": "code",
   "execution_count": 23,
   "id": "0d96c2f6",
   "metadata": {},
   "outputs": [
    {
     "name": "stdout",
     "output_type": "stream",
     "text": [
      "Palindrome\n"
     ]
    }
   ],
   "source": [
    "#7\n",
    "\n",
    "def palindrome_checker(main_string):\n",
    "    '''A function that checks if a given string is a palindrome or not'''\n",
    "\n",
    "    without_spaces = main_string.replace(\" \", \"\")    # trimming the spaces\n",
    "    without_spaces = without_spaces.lower()\n",
    "\n",
    "    if without_spaces == without_spaces[::-1]:\n",
    "        print(\"Palindrome\")\n",
    "    else:\n",
    "        print(\"Not a palindrome\")\n",
    "\n",
    "\n",
    "if __name__ == \"__main__\":\n",
    "    palindrome_checker(\"nurses run\")\n"
   ]
  },
  {
   "cell_type": "code",
   "execution_count": 12,
   "id": "3a61628a",
   "metadata": {},
   "outputs": [
    {
     "name": "stdout",
     "output_type": "stream",
     "text": [
      "10 years, 11 months and 20 days\n"
     ]
    }
   ],
   "source": [
    "#8\n",
    "\n",
    "def day_formatter(days):\n",
    "    '''A function that converts large amount of days in years, months and days'''\n",
    "\n",
    "    years = days // 365\n",
    "    days %= 365\n",
    "\n",
    "    months = days // 30\n",
    "    days %= 30\n",
    "\n",
    "    print(f\"{years} years, {months} months and {days} days\")\n",
    "\n",
    "\n",
    "if __name__ == \"__main__\":\n",
    "    day_formatter(4000)\n"
   ]
  },
  {
   "cell_type": "code",
   "execution_count": 15,
   "id": "c0423e6e",
   "metadata": {},
   "outputs": [
    {
     "name": "stdout",
     "output_type": "stream",
     "text": [
      "My favourite animal is a dog. A dog has sharp teeth so that it can eat flesh very easily. Do you know my pet dog’s name? I love my pet very much.\n"
     ]
    }
   ],
   "source": [
    "#9\n",
    "\n",
    "def capitalizer(paragraph):\n",
    "    '''A function that converts large amount of days in years, months and days'''\n",
    "\n",
    "    new = paragraph[0].upper()    # first letter capitalizing\n",
    "    index = 1\n",
    "\n",
    "    while index < (len(paragraph) - 1):    # excluding the last character\n",
    "        if paragraph[index] in ['.', '?', '!']:\n",
    "            new += paragraph[index: index + 2]    # adding the space also\n",
    "            new += paragraph[index + 2].upper()\n",
    "            index += 3\n",
    "            \n",
    "        elif paragraph[index] == 'i':\n",
    "            if (paragraph[index - 1] == ' ') and (paragraph[index + 1] == ' '):\n",
    "                new += \"I\"\n",
    "            else:\n",
    "                new += 'i'\n",
    "\n",
    "            index += 1\n",
    "            \n",
    "        else:\n",
    "            new += paragraph[index]\n",
    "            index += 1\n",
    "\n",
    "    new += paragraph[-1]    # lastly adding the last element of the paragraph\n",
    "    \n",
    "    return new\n",
    "\n",
    "\n",
    "if __name__ == \"__main__\":\n",
    "    capitalized = capitalizer('my favourite animal is a dog. a dog has sharp teeth so that it can eat flesh very easily. do you know my pet dog’s name? i love my pet very much.')\n",
    "    print(capitalized)"
   ]
  }
 ],
 "metadata": {
  "kernelspec": {
   "display_name": "Python 3",
   "language": "python",
   "name": "python3"
  },
  "language_info": {
   "codemirror_mode": {
    "name": "ipython",
    "version": 3
   },
   "file_extension": ".py",
   "mimetype": "text/x-python",
   "name": "python",
   "nbconvert_exporter": "python",
   "pygments_lexer": "ipython3",
   "version": "3.8.8"
  }
 },
 "nbformat": 4,
 "nbformat_minor": 5
}
