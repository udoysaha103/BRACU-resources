{
 "cells": [
  {
   "cell_type": "code",
   "execution_count": 1,
   "id": "c1a29ebb",
   "metadata": {},
   "outputs": [
    {
     "name": "stdout",
     "output_type": "stream",
     "text": [
      "No. of Motorcycle = 0\n",
      "=========================\n",
      "Name: Yamaha MT-15\n",
      "Year of manufacture: 2019\n",
      "Services: Oil change, Replace coolant\n",
      "=========================\n",
      "Name: Suzuki V-Strom 650\n",
      "Year of manufacture: 2020\n",
      "Services: Rear suspension check, New air filter, Oil change\n",
      "=========================\n",
      "Name: Honda Gold Wing\n",
      "Year of manufacture: 2017\n",
      "Services: Adjustment of throttle and clutch, New oil filter\n",
      "=========================\n",
      "No. of Motorcycle = 3\n"
     ]
    }
   ],
   "source": [
    "class Motorcycle:\n",
    "    count = 0\n",
    "\n",
    "    def __init__(self, name, year):\n",
    "        self.name = name\n",
    "        self.year = year\n",
    "        self.services = []\n",
    "\n",
    "        Motorcycle.count += 1\n",
    "\n",
    "    def add_Services(self, *services):\n",
    "        self.services.extend(list(services))\n",
    "\n",
    "    def printMotorcycleDetail(self):\n",
    "        print(f\"Name: {self.name}\\nYear of manufacture: {self.year}\\nServices: {self.services[0]}\", end = \"\")\n",
    "\n",
    "        for service in self.services[1:]:\n",
    "            print(\",\", service, end = \"\")\n",
    "\n",
    "        print()    # new line\n",
    "\n",
    "\n",
    "if __name__ == \"__main__\":\n",
    "    print('No. of Motorcycle =', Motorcycle.count)\n",
    "    m1 = Motorcycle('Yamaha MT-15', 2019)\n",
    "    m1.add_Services('Oil change', 'Replace coolant')\n",
    "    m2 = Motorcycle('Suzuki V-Strom 650', 2020)\n",
    "    m2.add_Services('Rear suspension check', 'New air filter', 'Oil change')\n",
    "    m3 = Motorcycle('Honda Gold Wing', 2017)\n",
    "    m3.add_Services('Adjustment of throttle and clutch', 'New oil filter')\n",
    "    print(\"=========================\")\n",
    "    m1.printMotorcycleDetail()\n",
    "    print(\"=========================\")\n",
    "    m2.printMotorcycleDetail()\n",
    "    print(\"=========================\")\n",
    "    m3.printMotorcycleDetail()\n",
    "    print(\"=========================\")\n",
    "    print('No. of Motorcycle =', Motorcycle.count)"
   ]
  }
 ],
 "metadata": {
  "kernelspec": {
   "display_name": "Python 3",
   "language": "python",
   "name": "python3"
  },
  "language_info": {
   "codemirror_mode": {
    "name": "ipython",
    "version": 3
   },
   "file_extension": ".py",
   "mimetype": "text/x-python",
   "name": "python",
   "nbconvert_exporter": "python",
   "pygments_lexer": "ipython3",
   "version": "3.8.8"
  }
 },
 "nbformat": 4,
 "nbformat_minor": 5
}
