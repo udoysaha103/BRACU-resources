{
 "cells": [
  {
   "cell_type": "code",
   "execution_count": 6,
   "id": "49e981b0",
   "metadata": {},
   "outputs": [
    {
     "name": "stdout",
     "output_type": "stream",
     "text": [
      "Please enter a number (10 to 20 inclusive) : 14\n",
      "The user entered 14\n",
      "14, 23, 41, 77"
     ]
    }
   ],
   "source": [
    "# 1\n",
    "\n",
    "user_input = int(input(\"Please enter a number (10 to 20 inclusive) : \"))\n",
    "print(\"The user entered\", user_input)\n",
    "\n",
    "if (user_input >= 10) and (user_input <= 20):\n",
    "    number = user_input\n",
    "    series = []\n",
    "\n",
    "    while number < 100:\n",
    "        series.append(number)\n",
    "        number = (2 * number) - 5\n",
    "\n",
    "    print(series[0], end = \"\")\n",
    "    for element in series[1:]:\n",
    "        print(\",\", element, end = \"\")\n",
    "else:\n",
    "    print(\"Wrong input\")"
   ]
  },
  {
   "cell_type": "code",
   "execution_count": 7,
   "id": "6e249592",
   "metadata": {},
   "outputs": [
    {
     "name": "stdout",
     "output_type": "stream",
     "text": [
      "Please enter a name : Tom\n",
      "*****Data for Tom*****\n",
      "Previous semester's completed credits: 70\n",
      "Previous semester's CGPA: 3.52\n",
      "Total Credits completed including current semester: 79\n",
      "Current semester's total GPA: 33.0\n",
      "Current semester's CGPA: 3.5367088607594934\n"
     ]
    }
   ],
   "source": [
    "# 2\n",
    "\n",
    "# given dictionary\n",
    "current_sem_data = {\"John\":[4.0,3.7,4.0], \"Tom\":[3.3,3.7,4.0], \"Harry\":[3.3,3.7,4.0]}\n",
    "previous_sem_data = {\"John\":[3.88,90], \"Tom\":[3.52, 70], \"Harry\":[3.25,85]}\n",
    "\n",
    "user_input = input(\"Please enter a name : \")\n",
    "\n",
    "print(f\"*****Data for {user_input}*****\")\n",
    "print(\"Previous semester's completed credits:\", previous_sem_data[user_input][-1])\n",
    "print(\"Previous semester's CGPA:\", previous_sem_data[user_input][0])\n",
    "\n",
    "current_sem_course_count = len(current_sem_data[user_input])\n",
    "print(\"Total Credits completed including current semester:\", previous_sem_data[user_input][-1] + (current_sem_course_count * 3))\n",
    "\n",
    "current_sem_gpa = sum(current_sem_data[user_input]) * 3\n",
    "print(\"Current semester's total GPA:\", current_sem_gpa)\n",
    "\n",
    "print(\"Current semester's CGPA:\", (current_sem_gpa + (previous_sem_data[user_input][0] * previous_sem_data[user_input][1]))/(previous_sem_data[user_input][-1] + (current_sem_course_count * 3)))"
   ]
  },
  {
   "cell_type": "code",
   "execution_count": 17,
   "id": "79782f1c",
   "metadata": {},
   "outputs": [
    {
     "name": "stdout",
     "output_type": "stream",
     "text": [
      "AAAA\n",
      "#A**A\n",
      "##A**A\n",
      "###AAAA\n"
     ]
    }
   ],
   "source": [
    "# 3\n",
    "\n",
    "def pattern_generator(limit):\n",
    "    '''A function that generates a pattern'''\n",
    "    \n",
    "    for line in range(limit):\n",
    "        print(\"#\"*line, end = \"\")\n",
    "\n",
    "        if (line == 0) or (line == limit - 1):\n",
    "            print(\"A\"*limit)\n",
    "        else:\n",
    "            print(\"A\" + (\"*\" * (limit - 2)) + \"A\")\n",
    "\n",
    "            \n",
    "if __name__ == \"__main__\":\n",
    "    pattern_generator(4)"
   ]
  }
 ],
 "metadata": {
  "kernelspec": {
   "display_name": "Python 3",
   "language": "python",
   "name": "python3"
  },
  "language_info": {
   "codemirror_mode": {
    "name": "ipython",
    "version": 3
   },
   "file_extension": ".py",
   "mimetype": "text/x-python",
   "name": "python",
   "nbconvert_exporter": "python",
   "pygments_lexer": "ipython3",
   "version": "3.8.8"
  }
 },
 "nbformat": 4,
 "nbformat_minor": 5
}
