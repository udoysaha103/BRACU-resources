{
 "cells": [
  {
   "cell_type": "code",
   "execution_count": 8,
   "id": "b98ea0ba",
   "metadata": {},
   "outputs": [
    {
     "name": "stdout",
     "output_type": "stream",
     "text": [
      "Please enter a string containing numbers separated by ',' : 20,7,31,13,15\n",
      "{'Divisible by 2': [20], 'Divisible by 3': [15], 'Divisible by 5': [20, 15], 'None': [7, 31, 13]}\n"
     ]
    }
   ],
   "source": [
    "user_input = input(\"Please enter a string containing numbers separated by ',' : \")\n",
    "list_of_numbers = list(map(int, user_input.strip().split(\",\")))\n",
    "\n",
    "divisibility_dict = {\"Divisible by 2\" : [],\n",
    "                     \"Divisible by 3\" : [],\n",
    "                     \"Divisible by 5\" : [],\n",
    "                     \"None\" : []}\n",
    "\n",
    "for number in list_of_numbers:\n",
    "    if (number % 2 != 0) and (number % 3 != 0) and (number % 5 != 0):\n",
    "        divisibility_dict[\"None\"].append(number)\n",
    "    else:\n",
    "        if number % 2 == 0:\n",
    "            divisibility_dict[\"Divisible by 2\"].append(number)\n",
    "        if number % 3 == 0:\n",
    "            divisibility_dict[\"Divisible by 3\"].append(number)\n",
    "        if number % 5 == 0:\n",
    "            divisibility_dict[\"Divisible by 5\"].append(number)\n",
    "\n",
    "print(divisibility_dict)"
   ]
  }
 ],
 "metadata": {
  "kernelspec": {
   "display_name": "Python 3",
   "language": "python",
   "name": "python3"
  },
  "language_info": {
   "codemirror_mode": {
    "name": "ipython",
    "version": 3
   },
   "file_extension": ".py",
   "mimetype": "text/x-python",
   "name": "python",
   "nbconvert_exporter": "python",
   "pygments_lexer": "ipython3",
   "version": "3.8.8"
  }
 },
 "nbformat": 4,
 "nbformat_minor": 5
}
