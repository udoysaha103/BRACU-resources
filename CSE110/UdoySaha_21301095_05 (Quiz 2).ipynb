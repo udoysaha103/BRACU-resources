{
 "cells": [
  {
   "cell_type": "code",
   "execution_count": 9,
   "id": "a5e19134",
   "metadata": {},
   "outputs": [
    {
     "name": "stdout",
     "output_type": "stream",
     "text": [
      "Please enter a string : bangladesh\n",
      "Please enter the starting index : 2\n",
      "Please enter the ending index : 7\n",
      "pincfg"
     ]
    }
   ],
   "source": [
    "# taking input from the user\n",
    "main_string = input(\"Please enter a string : \")\n",
    "starting_index = int(input(\"Please enter the starting index : \"))\n",
    "ending_index = int(input(\"Please enter the ending index : \"))\n",
    "\n",
    "length = len(main_string)\n",
    "\n",
    "if ending_index >= length :  # ending index must be less than the length of the string\n",
    "    print(\"Invalid Index\", end = \"\")\n",
    "    \n",
    "else:  # for valid index\n",
    "    for index in range(starting_index, ending_index + 1):  # ending index including\n",
    "        ascii_code = ord(main_string[index])  # getting the ascii value of the corresponding character\n",
    "        print(chr(ascii_code + 2), end = \"\")  # printing the second next character of the corresponding character"
   ]
  }
 ],
 "metadata": {
  "kernelspec": {
   "display_name": "Python 3",
   "language": "python",
   "name": "python3"
  },
  "language_info": {
   "codemirror_mode": {
    "name": "ipython",
    "version": 3
   },
   "file_extension": ".py",
   "mimetype": "text/x-python",
   "name": "python",
   "nbconvert_exporter": "python",
   "pygments_lexer": "ipython3",
   "version": "3.8.8"
  }
 },
 "nbformat": 4,
 "nbformat_minor": 5
}
