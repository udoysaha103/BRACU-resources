{
 "cells": [
  {
   "cell_type": "code",
   "execution_count": 1,
   "id": "e32b285c",
   "metadata": {},
   "outputs": [
    {
     "name": "stdout",
     "output_type": "stream",
     "text": [
      "570\n"
     ]
    }
   ],
   "source": [
    "def chocolatey_days(start_date, end_date):\n",
    "    '''A function that calculates days between 2 dates in chocolatey planet'''\n",
    "    start = list(map(int, start_date.split(\"/\")))\n",
    "    end = list(map(int, end_date.split(\"/\")))\n",
    "\n",
    "    differences = []\n",
    "    day_count = 0\n",
    "\n",
    "    for index in range(3):\n",
    "        differences.append(end[index] - start[index])\n",
    "\n",
    "    day_count += 240 * differences[2]\n",
    "    day_count += 20 * differences[1]\n",
    "    day_count += differences[0]\n",
    "\n",
    "    return day_count + 1     # days inclusive\n",
    "\n",
    "if __name__ == \"__main__\":\n",
    "    days = chocolatey_days(\"3/8/2018\", \"12/12/2020\")\n",
    "    print(days)"
   ]
  }
 ],
 "metadata": {
  "kernelspec": {
   "display_name": "Python 3",
   "language": "python",
   "name": "python3"
  },
  "language_info": {
   "codemirror_mode": {
    "name": "ipython",
    "version": 3
   },
   "file_extension": ".py",
   "mimetype": "text/x-python",
   "name": "python",
   "nbconvert_exporter": "python",
   "pygments_lexer": "ipython3",
   "version": "3.8.8"
  }
 },
 "nbformat": 4,
 "nbformat_minor": 5
}
