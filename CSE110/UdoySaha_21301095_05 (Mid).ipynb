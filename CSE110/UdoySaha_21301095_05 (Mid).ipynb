{
 "cells": [
  {
   "cell_type": "code",
   "execution_count": 7,
   "id": "51e0f431",
   "metadata": {},
   "outputs": [
    {
     "name": "stdout",
     "output_type": "stream",
     "text": [
      "Please enter an integer number : 12345984\n",
      "4842"
     ]
    }
   ],
   "source": [
    "# question 01\n",
    "\n",
    "# taking input\n",
    "main_number = int(input(\"Please enter an integer number : \"))\n",
    "\n",
    "\n",
    "# firstly finiding the number of digits in that number\n",
    "length_of_the_number = 0\n",
    "temp = main_number\n",
    "\n",
    "while temp != 0:\n",
    "    temp //= 10\n",
    "    length_of_the_number += 1\n",
    "    \n",
    "    \n",
    "# printing right to left\n",
    "temp = main_number\n",
    "\n",
    "for _ in range(length_of_the_number):\n",
    "    right_most = temp % 10\n",
    "    \n",
    "    if right_most % 2 == 0:    # checking whether the digit is even\n",
    "        print(right_most, end = \"\")\n",
    "    \n",
    "    temp //= 10"
   ]
  },
  {
   "cell_type": "code",
   "execution_count": 15,
   "id": "c8a632c5",
   "metadata": {},
   "outputs": [
    {
     "name": "stdout",
     "output_type": "stream",
     "text": [
      "Please enter your message : go attack\n",
      "hp cvvcdl\n"
     ]
    }
   ],
   "source": [
    "# question 02\n",
    "\n",
    "#taking input\n",
    "initial_message = input(\"Please enter your message : \")\n",
    "final_encrypted_message = \"\"  # initializing the final message with an empty string\n",
    "\n",
    "\n",
    "for character in initial_message:\n",
    "    if character != \" \":   # changing all the characters as stated except whitespace\n",
    "        appearance = initial_message.count(character)\n",
    "        new_char_code = ord(character) + appearance\n",
    "        \n",
    "        if new_char_code > ord(\"z\"):      # checking whether it's alphanueric\n",
    "            new_char_code = (new_char_code % ord(\"z\")) + ord(\"a\") - 1\n",
    "        elif (new_char_code > ord(\"Z\")) and (new_char_code < ord(\"a\")):\n",
    "            new_char_code = (new_char_code % ord(\"Z\")) + ord(\"A\") - 1\n",
    "        elif (new_char_code > ord(\"9\")) and (new_char_code < ord(\"A\")):\n",
    "            new_char_code = (new_char_code % ord(\"9\")) + ord(\"0\") - 1\n",
    "        \n",
    "        final_encrypted_message += chr(new_char_code)\n",
    "        \n",
    "    else:   # no change for whitespace\n",
    "        final_encrypted_message += character\n",
    "\n",
    "# printing the final encrypted message\n",
    "print(final_encrypted_message)"
   ]
  }
 ],
 "metadata": {
  "kernelspec": {
   "display_name": "Python 3",
   "language": "python",
   "name": "python3"
  },
  "language_info": {
   "codemirror_mode": {
    "name": "ipython",
    "version": 3
   },
   "file_extension": ".py",
   "mimetype": "text/x-python",
   "name": "python",
   "nbconvert_exporter": "python",
   "pygments_lexer": "ipython3",
   "version": "3.8.8"
  }
 },
 "nbformat": 4,
 "nbformat_minor": 5
}
