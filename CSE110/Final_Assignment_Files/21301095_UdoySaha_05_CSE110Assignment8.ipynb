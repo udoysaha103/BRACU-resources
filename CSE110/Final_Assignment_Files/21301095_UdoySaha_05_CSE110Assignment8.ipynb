{
 "cells": [
  {
   "cell_type": "markdown",
   "metadata": {
    "id": "ZXvFDb3VLf5p"
   },
   "source": [
    "# CSE110 Lab Assignment 8 on File I/O & Exception\n",
    "\n",
    "Please write your name, student ID and CSE110 section below:\n",
    "\n",
    "\n"
   ]
  },
  {
   "cell_type": "code",
   "execution_count": null,
   "metadata": {
    "id": "ft6hkS9Oguhw"
   },
   "outputs": [],
   "source": [
    "#STUDENT NAME: Udoy Saha\n",
    "#STUDENT ID: 21301095\n",
    "#CSE110 SECTION: 05"
   ]
  },
  {
   "cell_type": "markdown",
   "metadata": {
    "id": "4fjLeMMMEEKB"
   },
   "source": [
    "**<font color='red'>[MUST MAINTAIN VARIABLE NAMING CONVENTIONS FOR ALL THE TASKS]</font>**\n",
    "\n",
    "## Part 1: File\n",
    "\n",
    "### Task 1\n",
    "\n",
    "Write a python program that reads the first n lines of a text file.\n",
    "\n",
    "Suppose you have a file with all these strings in a file.\n",
    "\n",
    "=========================================================\n",
    "\n",
    "I love Python Programming.\\\n",
    "It is very easy to understand the code.\\\n",
    "It can code very hard problems easily in python code.\\\n",
    "Python programming is the best programming language.\n",
    "\n",
    "=========================================================\n",
    "\n",
    "\n",
    "**Input :**\\\n",
    "2\\\n",
    "**Output :**\\\n",
    "I love Python Programming.\\\n",
    "It is very easy to understand the code.\n",
    "\n",
    "=========================================================\n",
    "\n",
    "**Hint(1):**\\\n",
    "Use counter to control line number.\n",
    "\n",
    "**Hint(2):**\\\n",
    "Use function readlines() to store in a list and then use loop\n",
    "\n",
    "OR you can use readline() in a loop.\n",
    "\n",
    "**Hint(3):**\\\n",
    "You might need to use strip() function"
   ]
  },
  {
   "cell_type": "code",
   "execution_count": 2,
   "metadata": {
    "id": "Kb0Fn1AsEHVR"
   },
   "outputs": [
    {
     "name": "stdout",
     "output_type": "stream",
     "text": [
      "Please enter the limit of lines : 3\n",
      "I love Python Programming.\n",
      "It is very easy to understand the code.\n",
      "It can code very hard problems easily in python code.\n"
     ]
    }
   ],
   "source": [
    "#to do\n",
    "\n",
    "file_to_read = open(\"task1.txt\", \"r\")\n",
    "\n",
    "try:\n",
    "    user_input = int(input(\"Please enter the limit of lines : \"))\n",
    "except:        # if int conversion fails\n",
    "    print(\"Please try with a valid number!\")\n",
    "    exit(1)\n",
    "\n",
    "for line_no in range(user_input):\n",
    "    print(file_to_read.readline().strip())\n",
    "\n",
    "file_to_read.close()"
   ]
  },
  {
   "cell_type": "markdown",
   "metadata": {
    "id": "6C9IjoWsEJlJ"
   },
   "source": [
    "### Task 2\n",
    "\n",
    "Write a python program to find the longest word in a file. Then print the word.\\\n",
    "**Input: [in a file]**\\\n",
    "I love Python Programming\\\n",
    "It is very easy to understand the code\\\n",
    "It can code very hard problems easily in python code\\\n",
    "Python programming is the best programming language\n",
    "\n",
    "\n",
    "\n",
    "**Output:**\\\n",
    "Programming\n",
    "\n",
    "=========================================================\n",
    "\n",
    "**Hint(1):**\\\n",
    "You can use split function to separate the words into a list.\n",
    "\n",
    "**Hint(2):**\\\n",
    "Use function readlines()"
   ]
  },
  {
   "cell_type": "code",
   "execution_count": 3,
   "metadata": {
    "id": "WucZ7kEOEKrA"
   },
   "outputs": [
    {
     "name": "stdout",
     "output_type": "stream",
     "text": [
      "Programming\n"
     ]
    }
   ],
   "source": [
    "#to do\n",
    "\n",
    "file_to_read = open(\"task2.txt\", \"r\")\n",
    "\n",
    "words = file_to_read.read().split()\n",
    "\n",
    "longest_word_index = 0\n",
    "length = len(words[0])\n",
    "\n",
    "for index in range(1, len(words)):\n",
    "    if len(words[index]) > length:\n",
    "        length = len(words[index])\n",
    "        longest_word_index = index\n",
    "\n",
    "print(words[longest_word_index])\n",
    "\n",
    "file_to_read.close()"
   ]
  },
  {
   "cell_type": "markdown",
   "metadata": {
    "id": "Y0dBzRxdEK1R"
   },
   "source": [
    "### Task 3\n",
    "Write a python program that allows you to erase multiple spaces in a text file. Then re-write the sentence without extra spaces in a another text file.\n",
    "\n",
    "=========================================================\n",
    "\n",
    "**Input:**\n",
    "\n",
    "I&nbsp;&nbsp;&nbsp;&nbsp;&nbsp;&nbsp;love  &nbsp;&nbsp;&nbsp;&nbsp;&nbsp;&nbsp;&nbsp;             Python   &nbsp;&nbsp;&nbsp;&nbsp;&nbsp;&nbsp;&nbsp;&nbsp;          Programming\n",
    "\n",
    "**Output:**\\\n",
    "I love Python Programming.\n",
    "\n",
    "=========================================================\n",
    "\n",
    "**Hints:**\\\n",
    "You can use split function to separate the words into a list.\n"
   ]
  },
  {
   "cell_type": "code",
   "execution_count": 4,
   "metadata": {
    "id": "a0yJHr82ENWF"
   },
   "outputs": [
    {
     "name": "stdout",
     "output_type": "stream",
     "text": [
      "I love Python Programming.\n"
     ]
    }
   ],
   "source": [
    "#to do\n",
    "\n",
    "file_to_read = open(\"task3.txt\", \"r\")\n",
    "\n",
    "sentence = file_to_read.readline()\n",
    "\n",
    "sentence = sentence.split()\n",
    "sentence = \" \".join(sentence)\n",
    "sentence += \".\"\n",
    "\n",
    "print(sentence)\n",
    "\n",
    "file_to_read.close()"
   ]
  },
  {
   "cell_type": "markdown",
   "metadata": {
    "id": "OOFNxcqqENje"
   },
   "source": [
    "### Task 4\n",
    "Write a Python program to count the number of lines in a text file. Then, finally print the total number of lines.\n",
    "\n",
    "=========================================================\n",
    "\n",
    "**Input:**\\\n",
    "Hello\\\n",
    "What are you doing\\\n",
    "I am fine\n",
    "\n",
    "**Output:**\\\n",
    "3\n"
   ]
  },
  {
   "cell_type": "code",
   "execution_count": 5,
   "metadata": {
    "id": "PRPocuTJEP0v"
   },
   "outputs": [
    {
     "name": "stdout",
     "output_type": "stream",
     "text": [
      "3\n"
     ]
    }
   ],
   "source": [
    "#to do\n",
    "\n",
    "file_to_read = open(\"task4.txt\", \"r\")\n",
    "\n",
    "lines = file_to_read.readlines()\n",
    "\n",
    "print(len(lines))\n",
    "\n",
    "file_to_read.close()"
   ]
  },
  {
   "cell_type": "markdown",
   "metadata": {
    "id": "LiSNirheEQHf"
   },
   "source": [
    "### Task 5\n",
    "\n",
    "Write a Python program to combine each line from the first file with the corresponding line in the second file and then save it in a 3rd file.\n",
    "\n",
    "Consider, both the files have same number of lines. Assume, each line has a newline(\\n) at the end.\n",
    "\n",
    "=========================================================\n",
    "\n",
    "**Example:**\\\n",
    "**Input from file 1:**\\\n",
    "Hello\\\n",
    "Hi\\\n",
    "Nice\n",
    "\n",
    "**Input from file 2:**\\\n",
    "Bad\\\n",
    "Worse\\\n",
    "Worst\n",
    "\n",
    "**Output in 3rd FIle:**\\\n",
    "Hello Bad\\\n",
    "Hi Worse\\\n",
    "Nice Worst \n",
    "\n",
    "=========================================================\n",
    "\n",
    "**Hint(1):**\\\n",
    " Use the write() function\n",
    "\n",
    "\n",
    "\n"
   ]
  },
  {
   "cell_type": "code",
   "execution_count": 6,
   "metadata": {
    "id": "b-b4xnHLETDY"
   },
   "outputs": [],
   "source": [
    "#to do\n",
    "\n",
    "file_to_read_1 = open(\"task5i1.txt\", \"r\")\n",
    "file_to_read_2 = open(\"task5i2.txt\", \"r\")\n",
    "\n",
    "lines_1 = file_to_read_1.readlines()\n",
    "lines_2 = file_to_read_2.readlines()\n",
    "\n",
    "file_to_read_1.close()\n",
    "file_to_read_2.close()\n",
    "\n",
    "file_to_write = open(\"task5o.txt\", \"w\")\n",
    "\n",
    "lines_final = []\n",
    "\n",
    "for index in range(len(lines_1)):\n",
    "    lines_final.append(\" \".join([lines_1[index].strip(), lines_2[index]]))\n",
    "\n",
    "file_to_write.writelines(lines_final)\n",
    "\n",
    "file_to_write.close()"
   ]
  },
  {
   "cell_type": "markdown",
   "metadata": {
    "id": "6J7MA_zNCbCg"
   },
   "source": [
    "## Part 2: Exception \n"
   ]
  },
  {
   "cell_type": "markdown",
   "metadata": {
    "id": "tZow-v3MLoLE"
   },
   "source": [
    "### Task 6\n",
    "Given a list named my_list.\n",
    "my_list=[10,20,30,40,60,100,2,5]\n",
    "\n",
    "Write a python program that takes the position as an input from the user and prints the element of that position from the list. \n",
    "\n",
    "If the user’s input position is not in the range, return an exception stating “Index out of range”.\n",
    "\n",
    "Make sure your program always prints “Program ended” at the end, no matter what happens.\n",
    "\n",
    "=============================\n",
    "\n",
    "**Hint:** Use finally block\n",
    "\n",
    "=============================\n",
    "\n",
    "**Example 1:** \\\n",
    "**Input:**\\\n",
    "1\\\n",
    "**Output:**\\\n",
    "20\\\n",
    "Program ended\n",
    "\n",
    "=============================\n",
    "\n",
    "**Example 2:** \\\n",
    "**Input:**\\\n",
    "10\\\n",
    "**Output:**\\\n",
    "Index out of range.\\\n",
    "Program ended\n"
   ]
  },
  {
   "cell_type": "code",
   "execution_count": 11,
   "metadata": {
    "id": "c9yKuS5kLdDO"
   },
   "outputs": [
    {
     "name": "stdout",
     "output_type": "stream",
     "text": [
      "Please enter the position : 1\n",
      "20\n",
      "Program ended\n"
     ]
    }
   ],
   "source": [
    "#to do\n",
    "\n",
    "# given list\n",
    "my_list=[10,20,30,40,60,100,2,5]\n",
    "\n",
    "try:\n",
    "    position = int(input(\"Please enter the position : \"))\n",
    "except Exception:     # if int conversion fails\n",
    "    print(\"Please try with an Integer Value!\")\n",
    "else:\n",
    "    try:\n",
    "        print(my_list[position])\n",
    "    except Exception:     # if index is out of range\n",
    "        print(\"Index out of range.\")\n",
    "    finally:\n",
    "        print(\"Program ended\")"
   ]
  },
  {
   "cell_type": "markdown",
   "metadata": {
    "id": "gD4MMyO_Mtw4"
   },
   "source": [
    "### Task 7\n",
    "\n",
    "Suppose you have a dictionary named my_dictionary containing the name of some groceries and their prices.\\\n",
    "my_dictionary={“Potato”:12, “Onion”:16, “Ginger”:15, “Garlic”:12, “Tomato”:15}\n",
    "\n",
    "Now write a python program that takes the grocerie names as input from the users and shows the total price of the groceries.\n",
    "\n",
    "Some exceptions to handle:\n",
    "* Handle the exception when the given key is not present in the dictionary.\n",
    "* Handle the exception when the summation variable is not initialized. (the variable to store the total price has been initialized at 0 or not)\n",
    "\n",
    "=============================\n",
    "\n",
    "**Example 1:** \\\n",
    "**Input:**\\\n",
    "Potato,Onion,Ginger\\\n",
    "**Output:**\\\n",
    "43\n",
    "\n",
    "=============================\n",
    "\n",
    "**Example 2:** \\\n",
    "**Input:**\\\n",
    "Potato,Onion,Ginger,Beef\\\n",
    "**Output:**\\\n",
    "Some groceries are not available in the dictionary.\n"
   ]
  },
  {
   "cell_type": "code",
   "execution_count": 12,
   "metadata": {
    "id": "15umlUXTNe5N"
   },
   "outputs": [
    {
     "name": "stdout",
     "output_type": "stream",
     "text": [
      "Please enter the grocery names : Potato,Onion,Ginger,Beef\n",
      "Some groceries are not available in the dictionary.\n"
     ]
    }
   ],
   "source": [
    "# to do\n",
    "\n",
    "# given dictionary\n",
    "my_dictionary = {\"Potato\": 12, \"Onion\": 16, \"Ginger\": 15, \"Garlic\": 12, \"Tomato\": 15}\n",
    "\n",
    "user_input = input(\"Please enter the grocery names : \")\n",
    "groceries = user_input.split(\",\")\n",
    "summation = 0\n",
    "\n",
    "try:\n",
    "    for item in groceries:\n",
    "        summation += my_dictionary[item]\n",
    "\n",
    "    print(summation)\n",
    "    \n",
    "except NameError:\n",
    "    print(\"Summation variable is not initialized.\")\n",
    "except KeyError:\n",
    "    print(\"Some groceries are not available in the dictionary.\")"
   ]
  },
  {
   "cell_type": "markdown",
   "metadata": {
    "id": "l5SgF6kTN7vY"
   },
   "source": [
    "### Task 8\n",
    "Write a python program that takes two lists as input from the user, multiplies the index wise elements of the two lists and adds it to a new variable. While doing the program you should handle the following exceptions:\n",
    "* Return an exception if an element in a list is not a number stating “The list has some non number values”.\n",
    "* Return an exception if there is an index out of bound stating “Index out of bound”.\n",
    "\n",
    "=============================\n",
    "\n",
    "**Example 1:** \\\n",
    "**Input:**\\\n",
    "list_one = [1, a, 2, 4]\\\n",
    "list_two =[5, 6, 7, 8]\\\n",
    "**Output:**\\\n",
    "The list has some non number values\n",
    "\n",
    "=================\n",
    "\n",
    "**Example 2:** \\\n",
    "**Input:**\\\n",
    "list_one=[1, 2, 3, 4, 5]\\\n",
    "list_two=[1, 2, 3, 4]\\\n",
    "**Output:**\\\n",
    "Index out of bound\n",
    "\n",
    "=================\n",
    "\n",
    "**Example 3:** \\\n",
    "**Input:**\\\n",
    "list_one=[1,2,3,4]\\\n",
    "list_two=[5,6,7,8]\\\n",
    "**Output:**\\\n",
    "70\n",
    "\n",
    "\n"
   ]
  },
  {
   "cell_type": "code",
   "execution_count": 13,
   "metadata": {
    "id": "oFpEZFRhOlvV"
   },
   "outputs": [
    {
     "name": "stdout",
     "output_type": "stream",
     "text": [
      "Please enter the first list separated by ', ' and enclosed by [] : [1, 2, 3, 4, 5]\n",
      "Please enter the last list separated by ', ' and enclosed by [] : [1, 2, 3, 4]\n",
      "Index out of bound\n"
     ]
    }
   ],
   "source": [
    "#to do\n",
    "\n",
    "try:\n",
    "    user_input_one = input(\"Please enter the first list separated by ', ' and enclosed by [] : \")\n",
    "    user_input_two = input(\"Please enter the last list separated by ', ' and enclosed by [] : \")\n",
    "    list_one = list(map(int, user_input_one.strip()[1:-1].split(\", \")))\n",
    "    list_two = list(map(int, user_input_two.strip()[1:-1].split(\", \")))\n",
    "    summation = 0\n",
    "\n",
    "    for index in range(max(len(list_one), len(list_two))):\n",
    "        summation += list_one[index] * list_two[index]\n",
    "\n",
    "    print(summation)\n",
    "\n",
    "except ValueError:\n",
    "    print(\"The list has some non number values\")\n",
    "except IndexError:\n",
    "    print(\"Index out of bound\")"
   ]
  },
  {
   "cell_type": "markdown",
   "metadata": {
    "id": "iBqIUN-WOnvW"
   },
   "source": [
    "### Task 9\n",
    "Write a python program that will take a string input from the user. Your task is to count the number of vowels and consonants in the string.\n",
    "\n",
    "Using try, if the number of vowels is greater than or equal to the number of consonants than raise a runtime error. Print 'Number of vowels greater/equal to consonants. Please paraphrase.'.\\\n",
    "Otherwise, print 'The sentence will work.'. \n",
    "\n",
    "**Note:** a,e,i,o,u are called vowels and all the other 21 english alphabets are consonants.\n",
    "\n",
    "=============================\n",
    "\n",
    "**Example 1:** \\\n",
    "**Input:**\\\n",
    "'his age is 10'\\\n",
    "**Output:**\\\n",
    "Number of vowels greater/equal to consonants. Please paraphrase.\n",
    "\n",
    "=================\n",
    "\n",
    "**Example 2:** \\\n",
    "**Input:**\\\n",
    "'he is 10 years old'\\\n",
    "**Output:**\\\n",
    "The sentence will work."
   ]
  },
  {
   "cell_type": "code",
   "execution_count": 14,
   "metadata": {
    "id": "-4kg2W2EPwVo"
   },
   "outputs": [
    {
     "name": "stdout",
     "output_type": "stream",
     "text": [
      "Please enter a string : his age is 10\n"
     ]
    },
    {
     "ename": "RuntimeError",
     "evalue": "Number of vowels greater/equal to consonants. Please paraphrase.",
     "output_type": "error",
     "traceback": [
      "\u001b[1;31m---------------------------------------------------------------------------\u001b[0m",
      "\u001b[1;31mRuntimeError\u001b[0m                              Traceback (most recent call last)",
      "\u001b[1;32m<ipython-input-14-c6a616bb2bca>\u001b[0m in \u001b[0;36m<module>\u001b[1;34m\u001b[0m\n\u001b[0;32m     13\u001b[0m \u001b[1;33m\u001b[0m\u001b[0m\n\u001b[0;32m     14\u001b[0m \u001b[1;32mif\u001b[0m \u001b[0mvowel\u001b[0m \u001b[1;33m>=\u001b[0m \u001b[0mconsonant\u001b[0m\u001b[1;33m:\u001b[0m\u001b[1;33m\u001b[0m\u001b[1;33m\u001b[0m\u001b[0m\n\u001b[1;32m---> 15\u001b[1;33m     \u001b[1;32mraise\u001b[0m \u001b[0mRuntimeError\u001b[0m\u001b[1;33m(\u001b[0m\u001b[1;34m\"Number of vowels greater/equal to consonants. Please paraphrase.\"\u001b[0m\u001b[1;33m)\u001b[0m\u001b[1;33m\u001b[0m\u001b[1;33m\u001b[0m\u001b[0m\n\u001b[0m\u001b[0;32m     16\u001b[0m \u001b[1;32melse\u001b[0m\u001b[1;33m:\u001b[0m\u001b[1;33m\u001b[0m\u001b[1;33m\u001b[0m\u001b[0m\n\u001b[0;32m     17\u001b[0m     \u001b[0mprint\u001b[0m\u001b[1;33m(\u001b[0m\u001b[1;34m\"The sentence will work.\"\u001b[0m\u001b[1;33m)\u001b[0m\u001b[1;33m\u001b[0m\u001b[1;33m\u001b[0m\u001b[0m\n",
      "\u001b[1;31mRuntimeError\u001b[0m: Number of vowels greater/equal to consonants. Please paraphrase."
     ]
    }
   ],
   "source": [
    "#to do\n",
    "\n",
    "user_input = input(\"Please enter a string : \").lower()\n",
    "\n",
    "vowel = 0\n",
    "consonant = 0\n",
    "\n",
    "for letter in user_input:\n",
    "    if (letter == 'a') or (letter == 'e') or (letter == 'i') or (letter == 'o') or (letter == 'u'):\n",
    "        vowel += 1\n",
    "    elif letter.isalpha():\n",
    "        consonant += 1\n",
    "\n",
    "if vowel >= consonant:\n",
    "    raise RuntimeError(\"Number of vowels greater/equal to consonants. Please paraphrase.\")\n",
    "else:\n",
    "    print(\"The sentence will work.\")"
   ]
  },
  {
   "cell_type": "markdown",
   "metadata": {
    "id": "pl4CDeUkPxeM"
   },
   "source": [
    "### Task 10\n",
    "Write a python program that finds the corresponding energy values from a list of frequency values which are taken as input from the user, using the formula, $E=h*f$, where h is a constant of value: 1050\n",
    "\n",
    "Exceptions to handle:\n",
    "* Make sure all elements in the lists are numbers\n",
    "\n",
    "=============================\n",
    "\n",
    "**Example 1:** \\\n",
    "**Input:**\\\n",
    "[2,3]\\\n",
    "**Output:**\\\n",
    "[2100, 3150]\n",
    "\n",
    "=================\n",
    "\n",
    "**Example 2:** \\\n",
    "**Input:**\\\n",
    "[2,boss]\\\n",
    "**Output:**\\\n",
    "Wrong input type"
   ]
  },
  {
   "cell_type": "code",
   "execution_count": 15,
   "metadata": {
    "id": "vdYQH9qnQvVo"
   },
   "outputs": [
    {
     "name": "stdout",
     "output_type": "stream",
     "text": [
      "Please enter a list separated by ',' and enclosed by [] : [2,boss]\n",
      "Wrong input type\n"
     ]
    }
   ],
   "source": [
    "#to do\n",
    "\n",
    "user_input = input(\"Please enter a list separated by ',' and enclosed by [] : \")\n",
    "\n",
    "try:\n",
    "    f_list = list(map(int, (user_input.strip())[1:-1].split(\",\")))\n",
    "\n",
    "    h = 1050\n",
    "    e_list = []\n",
    "\n",
    "    for item in f_list:\n",
    "        e_list.append(item * h)\n",
    "\n",
    "    print(e_list)\n",
    "    \n",
    "except ValueError:\n",
    "    print(\"Wrong input type\")"
   ]
  },
  {
   "cell_type": "markdown",
   "metadata": {
    "id": "GC6Y943uUNHY"
   },
   "source": [
    "### Task 11\n",
    "Imagine Salman Khan is going to the sets of a new movie. He decides to cycle everyday on his way to the sets. For that he uses a distance calculator which finds the distance based on the present day's date, which is asked as an input from the user. You should first take the day and then the month as your inputs.\n",
    "The inputs should be stored in variables named `day` and `month` The distance calculator uses the following formulae to calculate a number which dictates the number of kilometers he must cycle on his way to work.\n",
    "\n",
    "Distance = |if day<10, `5+(day*2)/month`\\\n",
    "&nbsp;&nbsp;&nbsp;&nbsp;&nbsp;&nbsp;&nbsp;&nbsp;&nbsp;&nbsp;&nbsp;&nbsp;&nbsp;&nbsp;&nbsp;&nbsp;&nbsp;&nbsp;&nbsp; |else, `3+(day/month)`\n",
    "\n",
    "\n",
    "Exceptions to handle:\\\n",
    "-Check for 0 division error exception\\\n",
    "-Type error exception when taking date as input(if the input does not contain number)\\\n",
    "-Value error exception, as day can not be greater than 31 and month can not be greater than 12\n",
    "\n",
    "\n",
    "\n",
    "\n",
    "\n",
    "=============================\n",
    "\n",
    "\n",
    "**Example 1:** \\\n",
    "**Input:**\\\n",
    "3\\\n",
    "5\\\n",
    "**Output:**\\\n",
    "6.2 kilometres\n",
    "\n",
    "=================\n",
    "\n",
    "**Example 2:** \\\n",
    "**Input:**\\\n",
    "2\\\n",
    "0\\\n",
    "**Output:**\\\n",
    "0 is not a valid month\n",
    "\n",
    "=============================\n",
    "\n",
    "**Example 3:** \\\n",
    "**Input:**\\\n",
    "35\\\n",
    "12\\\n",
    "**Output:**\\\n",
    "35 is not a valid day of any month\n",
    "\n",
    "=============================\n",
    "\n",
    "**Example 4:** \\\n",
    "**Input:**\\\n",
    "Hello\\\n",
    "12\\\n",
    "**Output:**\\\n",
    "Please do not enter any string as input\n",
    "\n",
    "=============================\n",
    "\n",
    "\n",
    "**Example 5:** \\\n",
    "**Input:**\\\n",
    "15\\\n",
    "12\\\n",
    "**Output:**\\\n",
    "4.25 kilometres\n",
    "\n",
    "\n",
    "**Hint(1):**\\\n",
    "Can use the built-in isdigit() function OR the ASCII values ensure numbers as inputs\n",
    "\n",
    "\n",
    "**Hint(2):**\\\n",
    "Print the outputs in the except block with the help of conditional statements\n",
    "\n",
    "\n"
   ]
  },
  {
   "cell_type": "code",
   "execution_count": 16,
   "metadata": {
    "id": "NOpi8SPREmVw"
   },
   "outputs": [
    {
     "name": "stdout",
     "output_type": "stream",
     "text": [
      "Please enter the day : 2\n",
      "Please enter the month : 10\n",
      "5.4 kilometres\n"
     ]
    }
   ],
   "source": [
    "#to do\n",
    "\n",
    "day = input(\"Please enter the day : \")\n",
    "month = input(\"Please enter the month : \")\n",
    "\n",
    "try:\n",
    "    day = int(day)\n",
    "\n",
    "    try:\n",
    "        month = int(month)\n",
    "    except:\n",
    "        # nothing to do with value error now, we will search for type error in the later part of code\n",
    "        pass\n",
    "\n",
    "except ValueError:\n",
    "    print(\"Please do not enter any string as input\")\n",
    "\n",
    "else:\n",
    "\n",
    "    try:    # checking for value error\n",
    "        if day > 31 or month > 12:\n",
    "            raise ValueError\n",
    "\n",
    "    except ValueError:\n",
    "        if day > 31 and month > 12:\n",
    "            print(f\"{day} is not a valid day of any month and {month} is not a valid month of any year\")\n",
    "        elif day > 31:\n",
    "            print(f\"{day} is not a valid day of any month\")\n",
    "        elif month > 12:\n",
    "            print(f\"{month} is not a valid month of any year\")\n",
    "\n",
    "    else:\n",
    "        distance = None\n",
    "\n",
    "        try:\n",
    "            if day < 10:\n",
    "                distance = 5 + (day * 2) / month\n",
    "            else:\n",
    "                distance = 3 + (day / month)\n",
    "\n",
    "        except ZeroDivisionError:\n",
    "            print(\"0 is not a valid month\")\n",
    "        except TypeError:\n",
    "            print(\"Please do not enter any string as input\")\n",
    "\n",
    "        else:\n",
    "            print(distance, \"kilometres\")"
   ]
  },
  {
   "cell_type": "markdown",
   "metadata": {
    "id": "UrxbFOWk5ASO"
   },
   "source": [
    "## Optional Tasks (12-15)"
   ]
  },
  {
   "cell_type": "markdown",
   "metadata": {
    "id": "uIYrt-t8ETUQ"
   },
   "source": [
    "\n",
    "### Task 12\n",
    "Suppose you made a game and you stored information about the game play in a file.\\\n",
    "You stored Name, Score, Lives Used and Characters Killed of each players.\n",
    "\n",
    "**Existing file:**\\\n",
    "Mary,2000,5,25\\\n",
    "John,123455,12,50\\\n",
    "Peter,1500,5,10\\\n",
    "Harry,10000,10,30\\\n",
    "John,122,5,2\\\n",
    "Mary,5,1,1\\\n",
    "Peter,2,1,1\\\n",
    "John,123,5,10\\\n",
    "John,5,6,7\n",
    "\n",
    "**Now you have to make a new file where you have to store the following information:**\\\n",
    "1.In the first line you have to show the name and score of the player who scored the highest score.\n",
    "\n",
    "2.In the second line you have to store the name and lives used of players who used the least lives.\n",
    "\n",
    "3.In the third line you have to show the name and number of games played of the player who played the most games.\n",
    "\n",
    "**Output:**\\\n",
    "Name:John, Score:123455\\\n",
    "Name:Mary, Lives used:1\\\n",
    "Name:John, Games Played:4\n",
    "\n",
    "=========================================================\n",
    "\n",
    "**Hint(1):**\\\n",
    "Use dictionary where necessary.\\\n",
    "You are allowed to use max() min(), list.index(value) and str.split(separator) function.\n",
    "\n",
    "**Hint(2):**\\\n",
    "You need to use split function to get the data. The split function takes the separator as an argument.\n",
    "\n",
    "*Structure:*\n",
    "str.split(separator)\n",
    "\n",
    "*Example:*\n",
    "line = \"John,5,6,7\"\\\n",
    "line.split(',')\n",
    "\n",
    "**Hint(3):**\\\n",
    "You can use both write() and writelines() for writing the answers\n",
    "\n"
   ]
  },
  {
   "cell_type": "code",
   "execution_count": 4,
   "metadata": {
    "id": "0eB5wE1p-869"
   },
   "outputs": [],
   "source": [
    "#to do\n",
    "\n",
    "def name_fetcher(info_list):\n",
    "    names = []\n",
    "\n",
    "    for item in info_list:\n",
    "        names.append(item[0])\n",
    "\n",
    "    return names\n",
    "\n",
    "\n",
    "def score_fetcher(info_list):\n",
    "    scores = []\n",
    "\n",
    "    for item in info_list:\n",
    "        scores.append(item[1])\n",
    "\n",
    "    return scores\n",
    "\n",
    "\n",
    "def live_fetcher(info_list):\n",
    "    lives = []\n",
    "\n",
    "    for item in info_list:\n",
    "        lives.append(item[2])\n",
    "\n",
    "    return lives\n",
    "\n",
    "\n",
    "def highest_score(info_list):\n",
    "    names = name_fetcher(info_list)\n",
    "    scores = score_fetcher(info_list)\n",
    "\n",
    "    highest_score_index = scores.index(max(scores))\n",
    "\n",
    "    return f\"Name:{names[highest_score_index]}, Score:{scores[highest_score_index]}\"\n",
    "\n",
    "\n",
    "def least_lives(info_list):\n",
    "    names = name_fetcher(info_list)\n",
    "    lives = live_fetcher(info_list)\n",
    "\n",
    "    least_live_index = lives.index(min(lives))\n",
    "\n",
    "    return f\"Name:{names[least_live_index]}, Lives used:{lives[least_live_index]}\"\n",
    "\n",
    "\n",
    "def most_games(info_list):\n",
    "    names = name_fetcher(info_list)\n",
    "    unique_names = {}\n",
    "\n",
    "    for name in names:\n",
    "        if name not in unique_names:\n",
    "            unique_names.update({name : 1})\n",
    "        else:\n",
    "            unique_names[name] += 1\n",
    "\n",
    "    unique_names_terms = list(unique_names.keys())\n",
    "    unique_names_counts = list(unique_names.values())\n",
    "\n",
    "    most_game_index = unique_names_counts.index(max(unique_names_counts))\n",
    "\n",
    "    return f\"Name:{unique_names_terms[most_game_index]}, Games Played:{unique_names_counts[most_game_index]}\"\n",
    "\n",
    "\n",
    "if __name__ == \"__main__\":\n",
    "    file_to_read = open(\"task12.txt\", \"r\")\n",
    "\n",
    "    play_info = []\n",
    "    for line in file_to_read:    # fetching the data into a list\n",
    "        name, score, lives_used, characters_killed = line.split(\",\")\n",
    "        score, lives_used, characters_killed = int(score), int(lives_used), int(characters_killed)\n",
    "\n",
    "        play_info.append([name, score, lives_used, characters_killed])\n",
    "\n",
    "    file_to_read.close()\n",
    "\n",
    "    # staring to make the formatted outputs\n",
    "    file_to_write = open(\"task12o.txt\", \"w\")\n",
    "\n",
    "    first_line = highest_score(play_info)\n",
    "    second_line = least_lives(play_info)\n",
    "    third_line = most_games(play_info)\n",
    "\n",
    "    file_to_write.write(first_line + '\\n')\n",
    "    file_to_write.write(second_line + '\\n')\n",
    "    file_to_write.write(third_line)\n",
    "    \n",
    "    file_to_write.close()"
   ]
  },
  {
   "cell_type": "markdown",
   "metadata": {
    "id": "SjU5ufx8Snv3"
   },
   "source": [
    "### Task 13\n",
    "Read a **file** from the user which contains the  name and salary of employees. Convert that to a dictionary where the key is the name of each employee and value is the salary of that employee. Then find the total cost for the company that it needs to pay through employees’ salary. Print the dictionary and sum if no exception occurs.\n",
    "\n",
    "Exception to handle:\n",
    "* check whether file is actually there\n",
    "* check whether the salary in each line is a number or not.\n",
    "* raise error if there are extra numbers or names\n",
    "\n",
    "=============================\n",
    "\n",
    "**Example 1:** \\\n",
    "**Input:**\\\n",
    "Saadat 100\\\n",
    "Farzad 200\\\n",
    "Atef 300\\\n",
    "**Output:**\\\n",
    "dict={Saadat : 100, Farzad : 200, Atef : 300}\\\n",
    "Sum = 600\n",
    "\n",
    "=================\n",
    "\n",
    "**Example 2:** \\\n",
    "**Input:**\\\n",
    "Saadat 100\\\n",
    "Farzad 200\\\n",
    "Atef 300\\\n",
    "John\\\n",
    "**Output:**\\\n",
    "Extra Statement\n",
    "\n",
    "**Example 3:** \\\n",
    "**Input:**\\\n",
    "Saadat 100\\\n",
    "Farzad 200\\\n",
    "Atef john\\\n",
    "**Output:**\\\n",
    "Salary cannot be string\n"
   ]
  },
  {
   "cell_type": "code",
   "execution_count": 10,
   "metadata": {
    "id": "SUxJ1iCXUAPg"
   },
   "outputs": [
    {
     "name": "stdout",
     "output_type": "stream",
     "text": [
      "Extra Statement\n"
     ]
    }
   ],
   "source": [
    "#to do\n",
    "\n",
    "try:\n",
    "    file_to_read = open(\"task13.txt\", 'r')\n",
    "except:\n",
    "    print(\"File is not found!\")\n",
    "else:\n",
    "    try:\n",
    "        employee_salary = {}\n",
    "\n",
    "        for line in file_to_read:\n",
    "            line = line.strip().split()\n",
    "            line[1] = int(line[1])\n",
    "\n",
    "            employee_salary.update({line[0] : line[1]})\n",
    "\n",
    "    except ValueError:\n",
    "        print(\"Salary cannot be string\")\n",
    "    except IndexError:\n",
    "        print(\"Extra Statement\")\n",
    "\n",
    "    else:\n",
    "        print(\"dict=\", employee_salary, sep = \"\")\n",
    "        print(\"Sum =\", sum(employee_salary.values()))\n",
    "\n",
    "    finally:\n",
    "        file_to_read.close()"
   ]
  },
  {
   "cell_type": "markdown",
   "metadata": {
    "id": "2Xzq6xJNWvbf"
   },
   "source": [
    "### Task 14\n",
    "Write a python program to make a calculator. The user must input a string consisting of a number, operator and another number separated by white spaces.\n",
    "* If the user’s input does not contain 3 elements, raise an **exception error** stating \"Input does not contain 3 elements/Wrong operator\".\n",
    "* If the user inputs any other values except numbers in first and third position of the input, raise **value error** exception stating \"Input does not contain numbers.\" \n",
    "* If the user does not input ‘+’ or ‘-’ or ’/’ or ‘*’ or ‘%’ in second position of the input, again raise an **exception error** stating \"Input does not contain 3 elements/Wrong operator\".\n",
    "\n",
    "* In case of division, also handle **divide by zero exception**.\n",
    "\n",
    "\n",
    "If all the inputs are correct, calculate the result and print the value.\n",
    "\n",
    "\n",
    "=============================\n",
    "\n",
    "\n",
    "**Example 1:** \\\n",
    "**Input:**\\\n",
    "1 + 1 + 1\\\n",
    "**Output:**\\\n",
    "Input does not contain 3 elements/Wrong operator\n",
    "\n",
    "=================\n",
    "\n",
    "**Example 2:** \\\n",
    "**Input:**\\\n",
    "A * B\\\n",
    "**Output:**\\\n",
    "Input does not contain numbers.\n",
    "\n",
    "=================\n",
    "\n",
    "**Example 3:** \\\n",
    "**Input:**\\\n",
    "1 $ 3\\\n",
    "**Output:**\\\n",
    "Input does not contain 3 elements/Wrong operator\n",
    "\n",
    "=================\n",
    "\n",
    "**Example 4:** \\\n",
    "**Input:**\\\n",
    "1 + 1\\\n",
    "**Output:**\\\n",
    "The answer is : 2\n"
   ]
  },
  {
   "cell_type": "code",
   "execution_count": 9,
   "metadata": {
    "id": "vX2d7DiVXbhc"
   },
   "outputs": [
    {
     "name": "stdout",
     "output_type": "stream",
     "text": [
      "Please enter a string containing your expression : 1 + 1\n",
      "The answer is : 2\n"
     ]
    }
   ],
   "source": [
    "#to do\n",
    "\n",
    "user_input = input(\"Please enter a string containing your expression : \")\n",
    "values = user_input.split()\n",
    "\n",
    "if (len(values) != 3) or not((values[1] == '+') or (values[1] == '-') or (values[1] == '*') or (values[1] == '/') or (values[1] == '%')):\n",
    "    raise Exception(\"Input does not contain 3 elements/Wrong operator\")\n",
    "\n",
    "if not(values[0].isdigit() and values[2].isdigit()):\n",
    "    raise ValueError(\"Input does not contain numbers.\")\n",
    "\n",
    "values[0], values[2] = int(values[0]), int(values[2])\n",
    "\n",
    "if values[1] == '+':\n",
    "    print(\"The answer is :\", values[0] + values[2])\n",
    "elif values[1] == '-':\n",
    "    print(\"The answer is :\", values[0] - values[2])\n",
    "elif values[1] == '*':\n",
    "    print(\"The answer is :\", values[0] * values[2])\n",
    "elif values[1] == '/':\n",
    "    try:\n",
    "        result = values[0] / values[2]\n",
    "        if result == int(result):\n",
    "            print(\"The answer is :\", result)\n",
    "        else:\n",
    "            print(\"The answer is :\", result)\n",
    "    except ZeroDivisionError:\n",
    "        print(\"2nd value can not be 0\")\n",
    "elif values[1] == '%':\n",
    "    print(\"The answer is :\", values[0] % values[2])"
   ]
  },
  {
   "cell_type": "markdown",
   "metadata": {
    "id": "RdshPzpJRcsD"
   },
   "source": [
    "### Task 15\n",
    "Write a python function that will remove a given character from a sentence based on the starting and ending index of the sentence. In the place of the removed characters, add the count of the number of characters removed so far. For this program, you need to take 4 user inputs.\n",
    "* Sentence\n",
    "* Character to be removed\n",
    "* Starting index (inclusive)\n",
    "* Ending index (inclusive)\n",
    "\n",
    "Few exceptions to catch: \n",
    "* Name Error if a variable is not found. Print ‘Name Error: Variable not defined’\n",
    "* Value Error if the starting index and ending index is not an integer. Print ‘Value Error: Wrong input, please enter an integer value.’\n",
    "* Type Error when adding count in the new sentence. Print ‘Type Error: Cannot add integer value with string.’\n",
    "* Index Error if the starting and ending index is out of range. Print ‘Index Error: Index is outside the range of sentence length.’\n",
    "* For other exceptions, catch Exception. Print ‘Some other error occurred.’\n",
    "\n",
    "If no exception occurred, print the new string using else block. At the end using finally, print ‘The program execution is complete’.\n",
    "\n",
    "=============================\n",
    "\n",
    "**Example 1:** \\\n",
    "**Input:**\\\n",
    "'my python programming book'\\\n",
    "'m'\\\n",
    "2\\\n",
    "20\\\n",
    "**Output:**\\\n",
    "my python progra12ing book\\\n",
    "The program execution is complete\n",
    "\n",
    "=================\n",
    "\n",
    "**Example 2:** \\\n",
    "**Input:**\\\n",
    "'my python programming book'\\\n",
    "'m'\\\n",
    "2.5\\\n",
    "20\\\n",
    "**Output:**\\\n",
    "Value Error: Wrong input, please enter an integer value.\\\n",
    "The program execution is complete\n",
    "\n",
    "=================\n",
    "\n",
    "**Example 3:** \\\n",
    "**Input:**\\\n",
    "'my python programming book'\\\n",
    "'m'\\\n",
    "2\\\n",
    "100\\\n",
    "**Output:**\\\n",
    "Index Error: Index is outside the range of sentence length.\\\n",
    "The program execution is complete\n",
    "\n",
    "=================\n",
    "\n",
    "**Hint(1):**\\\n",
    "For ensuring starting index and ending index value to be integer use the builtin function isinstance(value, data_type)\n"
   ]
  },
  {
   "cell_type": "code",
   "execution_count": null,
   "metadata": {
    "id": "bcU6dV5BSl7d"
   },
   "outputs": [],
   "source": [
    "#to do\n",
    "\n",
    "user_input = input(\"Please enter a string : \")\n",
    "remove_character = input(\"Please enter the character to remove : \")\n",
    "start = input(\"Please enter the starting index : \")\n",
    "end = input(\"Please enter the ending index : \")\n",
    "replacer = 1\n",
    "\n",
    "try:\n",
    "    start = int(start)\n",
    "    end = int(end)\n",
    "\n",
    "    user_input = list(user_input)\n",
    "\n",
    "    for index in range(start, end + 1):\n",
    "        if user_input[index] == remove_character:\n",
    "            user_input[index] = str(replacer)\n",
    "            replacer += 1\n",
    "\n",
    "    user_input = \"\".join(user_input)\n",
    "\n",
    "except NameError:\n",
    "    print(\"Name Error: Variable not defined\")\n",
    "except TypeError:\n",
    "    print(\"Type Error: Cannot add integer value with string.\")\n",
    "except IndexError:\n",
    "    print(\"Index Error: Index is outside the range of sentence length.\")\n",
    "except ValueError:\n",
    "    print(\"Value Error: Wrong input, please enter an integer value.\")\n",
    "except Exception:\n",
    "    print(\"Some other error occurred.\")\n",
    "\n",
    "else:\n",
    "    print(user_input)\n",
    "\n",
    "finally:\n",
    "    print(\"The program execution is complete\")"
   ]
  }
 ],
 "metadata": {
  "colab": {
   "collapsed_sections": [],
   "name": "CSE110 Lab Assignment 8 (File I/O & Exception).ipynb",
   "provenance": []
  },
  "kernelspec": {
   "display_name": "Python 3",
   "language": "python",
   "name": "python3"
  },
  "language_info": {
   "codemirror_mode": {
    "name": "ipython",
    "version": 3
   },
   "file_extension": ".py",
   "mimetype": "text/x-python",
   "name": "python",
   "nbconvert_exporter": "python",
   "pygments_lexer": "ipython3",
   "version": "3.8.8"
  }
 },
 "nbformat": 4,
 "nbformat_minor": 1
}
