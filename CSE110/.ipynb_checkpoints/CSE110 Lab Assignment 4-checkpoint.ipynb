{
 "cells": [
  {
   "cell_type": "markdown",
   "metadata": {
    "id": "xDNsncrtU1yM"
   },
   "source": [
    "# CSE110 Lab Assignment 4\n",
    "\n",
    "This Assignment is to help you develop your concept of Lists in Python."
   ]
  },
  {
   "cell_type": "markdown",
   "metadata": {
    "id": "gh4GUDaIU1yO"
   },
   "source": [
    "\n",
    "\n",
    "\n",
    "\n",
    "\n",
    "\n",
    "##Write your name, student ID and CSE110 theory section number below:\n",
    "\n",
    "\n",
    "\n",
    "\n",
    "\n"
   ]
  },
  {
   "cell_type": "code",
   "execution_count": null,
   "metadata": {
    "id": "OAYfzLIqgqyE"
   },
   "outputs": [],
   "source": [
    "#STUDENT NAME: Udoy Saha\n",
    "#STUDENT ID: 21301095\n",
    "#CSE110 THEORY SECTION: 05"
   ]
  },
  {
   "cell_type": "markdown",
   "metadata": {
    "id": "KD4EKJf6U1yQ"
   },
   "source": [
    "## Write the code in Python to do the following tasks:\n",
    "\n",
    "**<font color='red'>[MUST MAINTAIN VARIABLE NAMING CONVENTIONS FOR ALL THE TASKS]</font>**"
   ]
  },
  {
   "cell_type": "markdown",
   "metadata": {
    "id": "pbdeIVcyU1yi"
   },
   "source": [
    "### Task 1\n",
    "Write a Python program that reads 10 numbers from the user into a list. After reading each number, print all the numbers that have been entered so far in the list. \n",
    "\n",
    "**Example:**\\\n",
    "After the user enters 3, prints “Numbers in the list: [3]”\\\n",
    "After the user enters 5, prints “Numbers in the list: [3, 5]”\\\n",
    "After the user enters 34, prints “Numbers in the list: [3, 5, 34]”\\\n",
    ".... and so on"
   ]
  },
  {
   "cell_type": "code",
   "execution_count": 6,
   "metadata": {
    "id": "A5df9pmJU1yj"
   },
   "outputs": [
    {
     "name": "stdout",
     "output_type": "stream",
     "text": [
      "Please enter 10 numbers to add in a List :\n",
      "3\n",
      "Numbers in the list: [3]\n",
      "5\n",
      "Numbers in the list: [3, 5]\n",
      "34\n",
      "Numbers in the list: [3, 5, 34]\n",
      "97\n",
      "Numbers in the list: [3, 5, 34, 97]\n",
      "1\n",
      "Numbers in the list: [3, 5, 34, 97, 1]\n",
      "4\n",
      "Numbers in the list: [3, 5, 34, 97, 1, 4]\n",
      "0\n",
      "Numbers in the list: [3, 5, 34, 97, 1, 4, 0]\n",
      "5\n",
      "Numbers in the list: [3, 5, 34, 97, 1, 4, 0, 5]\n",
      "45\n",
      "Numbers in the list: [3, 5, 34, 97, 1, 4, 0, 5, 45]\n",
      "49\n",
      "Numbers in the list: [3, 5, 34, 97, 1, 4, 0, 5, 45, 49]\n"
     ]
    }
   ],
   "source": [
    "main_list = []\n",
    "print(\"Please enter 10 numbers to add in a List :\")\n",
    "\n",
    "for counter in range(10):\n",
    "    number = int(input())\n",
    "    main_list.append(number)   # appending numbers in the list after every input and then prints the current list\n",
    "    print(\"Numbers in the list:\", main_list)"
   ]
  },
  {
   "cell_type": "markdown",
   "metadata": {
    "id": "ZrjtT-I_U1zD"
   },
   "source": [
    "### Task 2\n",
    "\n",
    "Write a Python program that takes a list as an input from the user.Then creates a new list excluding the first and last two elements of the given list and prints the new list. If there are not enough elements in the list to do the task, the print \"Not possible\".\n",
    "\n",
    "**Note:** You may use list slicing.\n",
    "\n",
    "===================================================================\n",
    "\n",
    "**Sample Input 1:**<br/>\n",
    "[10, 20, 24, 25, 26, 35, 70]<br/>\n",
    "**Sample Output 1:**<br/>\n",
    "[24, 25, 26]<br/>\n",
    "\n",
    "===================================================================\n",
    "\n",
    "**Sample Input 2:**<br/>\n",
    "[10, 20, 24, 25, 26]<br/>\n",
    "**Sample Output 2:**<br/>\n",
    "[24]<br/>\n",
    "\n",
    "===================================================================\n",
    "\n",
    "**Sample Input 3:**<br/>\n",
    "[10, 20, 24, 25]<br/>\n",
    "**Sample Output 3:**<br/>\n",
    "[]<br/>\n",
    "\n",
    "===================================================================\n",
    "\n",
    "**Sample Input 4:**<br/>\n",
    "[10, 20, 24]<br/>\n",
    "**Sample Output 4:**<br/>\n",
    "Not possible<br/>\n",
    "\n",
    "==================================================================="
   ]
  },
  {
   "cell_type": "code",
   "execution_count": 6,
   "metadata": {
    "id": "3r7Ripj7U1zE"
   },
   "outputs": [
    {
     "name": "stdout",
     "output_type": "stream",
     "text": [
      "Please enter a list beginning with '[' and ending with ']' and each element separated by ', ' : [10, 20, 24, 25, 26, 35, 70]\n",
      "\n",
      "[24, 25, 26]\n"
     ]
    }
   ],
   "source": [
    "#to do\n",
    "\n",
    "user_input = input(\"Please enter a list beginning with '[' and ending with ']' and each element separated by ', ' : \")\n",
    "\n",
    "main_list = user_input[1:-1].split(\", \")   # splitting the string whith ', ' to get the desired list\n",
    "length_main = len(main_list)\n",
    "\n",
    "if length_main < 4 :\n",
    "    print(\"\\nNot possible\")\n",
    "else:\n",
    "    desired_list = main_list[2:-2]    # 3rd index(inclusive) to the second last index(exclusive)\n",
    "    length_desired = len(desired_list)\n",
    "    \n",
    "    for index in range(length_desired):    # type-casting to integer\n",
    "        desired_list[index] = desired_list[index].strip()\n",
    "        desired_list[index] = int(desired_list[index])\n",
    "    \n",
    "    print(\"\\n\", desired_list, sep = \"\")"
   ]
  },
  {
   "cell_type": "markdown",
   "metadata": {
    "id": "AWgZaBZCzmaM"
   },
   "source": [
    "### Task 3\n",
    "\n",
    "Write a python program that reads 5 numbers from the user into a list, and then prints them in the reverse order.\n",
    "\n",
    "*Hint: You may create a list to store the input numbers and then use loop to print them in reverse order*\n",
    "\n",
    "===================================================================\n",
    "\n",
    "**Sample Input:**\\\n",
    "5\\\n",
    "-5\\\n",
    "100\\\n",
    "1\\\n",
    "0\n",
    "\n",
    "**Sample Output:**\\\n",
    "0\\\n",
    "1\\\n",
    "100\\\n",
    "-5\\\n",
    "5\n",
    "\n",
    "==================================================================="
   ]
  },
  {
   "cell_type": "code",
   "execution_count": 17,
   "metadata": {
    "id": "ICW-03YOznTp"
   },
   "outputs": [
    {
     "name": "stdout",
     "output_type": "stream",
     "text": [
      "Please enter 5 numbers to add in a List :\n",
      "5\n",
      "-5\n",
      "100\n",
      "1\n",
      "0\n",
      "\n",
      "0\n",
      "1\n",
      "100\n",
      "-5\n",
      "5\n"
     ]
    }
   ],
   "source": [
    "#to do\n",
    "\n",
    "main_list = []\n",
    "print(\"Please enter 5 numbers to add in a List :\")\n",
    "\n",
    "for counter in range(5):   # reading the numbers and soring them into a list\n",
    "    number = int(input())\n",
    "    main_list.append(number)\n",
    "\n",
    "print(\"\")\n",
    "\n",
    "for counter in range(5,0,-1):    # printing the list in reverse\n",
    "    print(main_list[counter-1])"
   ]
  },
  {
   "cell_type": "markdown",
   "metadata": {
    "id": "7a_1pYjfU1zI"
   },
   "source": [
    "### Task 4\n",
    "Assume, you have been given two lists. [Your program should work for any two given lists; change the following lists and check whether your program works correctly for the code you have written]\n",
    "\n",
    "list_one = [1, 2, 3, 4, 5, 6, 7, 8, 9]\\\n",
    "list_two = [10, 11, 12, -13, -14, -15, -16]\n",
    "\n",
    "Write a Python program that creates a new list with all the **even elements** of both of the given lists and prints the new list.\n",
    "\n",
    "**Hint:** You may create a third list to store the even elements of the given lists.\n",
    "\n",
    "===================================================================\n",
    "\n",
    "**Output for the above lists:** [2, 4, 6, 8, 10, 12, -14, -16]\n",
    "\n",
    "==================================================================="
   ]
  },
  {
   "cell_type": "code",
   "execution_count": 32,
   "metadata": {
    "id": "vToa7yazU1zI"
   },
   "outputs": [
    {
     "name": "stdout",
     "output_type": "stream",
     "text": [
      "Please enter the first list (beginning with '[' and ending with ']' and each element separated by ', ') : [10, 11, 12, -13, -14, -15, -16]\n",
      "Please enter the second list (beginning with '[' and ending with ']' and each element separated by ', ') : [1, 2, 3, 4, 5, 6, 7, 8, 9]\n",
      "\n",
      "[10, 12, -14, -16, 2, 4, 6, 8]\n"
     ]
    }
   ],
   "source": [
    "#to do\n",
    "\n",
    "# taking input and processing the first list\n",
    "user_input_one = input(\"Please enter the first list (beginning with '[' and ending with ']' and each element separated by ', ') : \")\n",
    "list_one = user_input_one[1:-1].split(\", \")\n",
    "length_one = len(list_one)\n",
    "for index in range(length_one):\n",
    "    list_one[index] = int(list_one[index])\n",
    "\n",
    "# taking input and processing the second list\n",
    "user_input_two = input(\"Please enter the second list (beginning with '[' and ending with ']' and each element separated by ', ') : \")\n",
    "list_two = user_input_two[1:-1].split(\", \")\n",
    "length_two = len(list_two)\n",
    "for index in range(length_two):\n",
    "    list_two[index] = int(list_two[index])\n",
    "\n",
    "final_list = []    # empty list for storing processed elements\n",
    "\n",
    "# appending even elements to the final list\n",
    "for index in range(length_one):\n",
    "    if (list_one[index] % 2) == 0 :\n",
    "        final_list.append(list_one[index])\n",
    "        \n",
    "for index in range(length_two):\n",
    "    if (list_two[index] % 2) == 0 :\n",
    "        final_list.append(list_two[index])\n",
    "\n",
    "# printing the final list\n",
    "print(\"\")\n",
    "print(final_list)"
   ]
  },
  {
   "cell_type": "markdown",
   "metadata": {
    "id": "QaD4hLn92EKT"
   },
   "source": [
    "### Task 5\n",
    "\n",
    "Write a Python program that takes numbers as input into a list, removes multiple occurences of any number and then finally prints a list **without duplicate values**.\n",
    "\n",
    "*Hint: You may create a third list to store the results. You can use membership operators (in, not in) to make sure no duplicates are added.*\n",
    "\n",
    "===================================================================\n",
    "\n",
    "**Sample Input 1:**<br/>\n",
    "0, 0, 1, 2, 3, 4, 4, 5, 6, 6, 6, 7, 8, 9, 4, 4<br/>\n",
    "\n",
    "\n",
    "**Sample Output 1:**<br/>\n",
    "[0, 1, 2, 3, 4, 5, 6, 7, 8, 9]<br/>\n",
    "\n",
    "===================================================================\n",
    "\n",
    "**Sample Input 2:**<br/>\n",
    "7, 7, 7, 1, 0, 3, 3, 55, 9<br/>\n",
    "\n",
    "\n",
    "**Sample Output 2:**<br/>\n",
    "[7, 1, 0, 3, 55, 9]<br/>\n",
    "\n",
    "==================================================================="
   ]
  },
  {
   "cell_type": "code",
   "execution_count": 35,
   "metadata": {
    "id": "EUbQbz5hU1zP"
   },
   "outputs": [
    {
     "name": "stdout",
     "output_type": "stream",
     "text": [
      "Please enter a list (Each element separated by ', ' , Without []) : 7, 7, 7, 1, 0, 3, 3, 55, 9\n",
      "\n",
      "[7, 1, 0, 3, 55, 9]\n"
     ]
    }
   ],
   "source": [
    "#to do\n",
    "\n",
    "# reading the numbers and storing them into a list in integer form\n",
    "user_input = input(\"Please enter a list (Each element separated by ', ' , Without []) : \")\n",
    "main_list = user_input.split(\", \")\n",
    "length = len(main_list)\n",
    "for index in range(length):    # type-casting into integer\n",
    "    main_list[index] = int(main_list[index])\n",
    "\n",
    "modified_list = []    # new list for storing filtered items\n",
    "\n",
    "# filtering the items and appending them to the new list\n",
    "modified_list.append(main_list[0])\n",
    "for index in range(1, length):\n",
    "    member = main_list[index]\n",
    "    if member not in modified_list:\n",
    "        modified_list.append(member)\n",
    "\n",
    "# printing the new filtered list\n",
    "print(\"\")\n",
    "print(modified_list)"
   ]
  },
  {
   "cell_type": "markdown",
   "metadata": {
    "id": "wfcSytFVU1zU"
   },
   "source": [
    "### Task 6\n",
    "\n",
    "Write a Python program that reads 5 numbers into a list and prints the largest number and its location or index position on the list. <font color='red'>[You are not allowed to use the max(), sort(), sorted() function here]</font>\n",
    "\n",
    "**Hint:** Assume the first input to be the largest value initially and the largest value’s location to be 0.\n",
    "\n",
    "**Note:** You may need to be careful while printing the output. Depending on your code, you might need data conversion.\n",
    "\n",
    "===================================================================\n",
    "\n",
    "**Sample Input:**\\\n",
    " 7, 13, 2, 10, 6\n",
    "\n",
    "**Sample Output:**\\\n",
    "My list: [7, 13, 2, 10, 6]\\\n",
    "Largest number in the list is 13 which was found at index 1.\n",
    "\n",
    "==================================================================="
   ]
  },
  {
   "cell_type": "code",
   "execution_count": 73,
   "metadata": {
    "id": "kXbEh1t3U1zV"
   },
   "outputs": [
    {
     "name": "stdout",
     "output_type": "stream",
     "text": [
      "Please enter 5 numbers to add in a List (Separated by ',' , without []) : 7, 13, 2, 10, 6\n",
      "\n",
      "My list: [7, 13, 2, 10, 6]\n",
      "Largest number in the list is 13 which was found at index 1.\n"
     ]
    }
   ],
   "source": [
    "#to do\n",
    "\n",
    "# taking 5 inputs from the user as a list\n",
    "user_input = input(\"Please enter 5 numbers to add in a List (Separated by ',' , without []) : \")\n",
    "main_list = user_input.split(\",\")\n",
    "length = len(main_list)\n",
    "for index in range(length):\n",
    "    main_list[index] = int(main_list[index])\n",
    "\n",
    "max_value = main_list[0]\n",
    "max_index = 0\n",
    "\n",
    "for index in range(1, 5):     # finding the maximum value and index of that\n",
    "    if main_list[index] > max_value :\n",
    "        max_value = main_list[index]\n",
    "        max_index = index\n",
    "\n",
    "print(\"\\nMy list:\", main_list)\n",
    "print(f\"Largest number in the list is {max_value} which was found at index {max_index}.\")"
   ]
  },
  {
   "cell_type": "markdown",
   "metadata": {
    "id": "nwRZ3_0tC3fq"
   },
   "source": [
    "### Task 7\n",
    "\n",
    "\n",
    "Assume, you have been given two lists. [Your program should work for any two given lists; make changes to the lists below and check whether your program works correctly]\n",
    "\n",
    "list_one = [1, 2 , 2, 4, 5, 5, 7, 99, 200, 303, 70]\\\n",
    "list_two = [1, 1, 2, 3, 3, 3, 4, 5, 200, 500, -5]\n",
    "\n",
    "Write a Python program that creates a new list with all the **unique elements** of both the given lists. \n",
    "<font color='red'> **You need to make sure that there are no duplicates in the resulting list.**</font> Finally, print the updated list.\n",
    "\n",
    "**Hint:** You may create a third list to store the results. You can use membership operators (in, not in) to make sure no duplicates are added.\n",
    "\n",
    "===================================================================\n",
    "\n",
    "**Output for the above two lists**: \n",
    "[1, 2, 4, 5, 7, 99, 200, 303, 70, 3, 500, -5]\n",
    "\n",
    "===================================================================\n",
    "\n"
   ]
  },
  {
   "cell_type": "code",
   "execution_count": 36,
   "metadata": {
    "id": "LEnaTlyoMJdS"
   },
   "outputs": [
    {
     "name": "stdout",
     "output_type": "stream",
     "text": [
      "Please enter the first list (beginning with '[' and ending with ']' and each element separated by ', ') : [1, 2 , 2, 4, 5, 5, 7, 99, 200, 303, 70]\n",
      "Please enter the second list (beginning with '[' and ending with ']' and each element separated by ', ') : [1, 1, 2, 3, 3, 3, 4, 5, 200, 500, -5]\n",
      "\n",
      "[1, 2, 4, 5, 7, 99, 200, 303, 70, 3, 500, -5]\n"
     ]
    }
   ],
   "source": [
    "#to do\n",
    "\n",
    "# taking input and processing the first list\n",
    "user_input_one = input(\"Please enter the first list (beginning with '[' and ending with ']' and each element separated by ', ') : \")\n",
    "list_one = user_input_one[1:-1].split(\", \")\n",
    "length_one = len(list_one)\n",
    "for index in range(length_one):\n",
    "    list_one[index] = int(list_one[index])\n",
    "\n",
    "# taking input and processing the second list\n",
    "user_input_two = input(\"Please enter the second list (beginning with '[' and ending with ']' and each element separated by ', ') : \")\n",
    "list_two = user_input_two[1:-1].split(\", \")\n",
    "length_two = len(list_two)\n",
    "for index in range(length_two):\n",
    "    list_two[index] = int(list_two[index])\n",
    "\n",
    "final_list = []    # empty list for storing processed elements\n",
    "\n",
    "# appending unique elements to the final list\n",
    "final_list.append(list_one[0])\n",
    "for index in range(1, length_one):\n",
    "    member = list_one[index]\n",
    "    if member not in final_list :\n",
    "        final_list.append(member)\n",
    "        \n",
    "for index in range(length_two):\n",
    "    member = list_two[index]\n",
    "    if member not in final_list :\n",
    "        final_list.append(member)\n",
    "\n",
    "# printing the final list\n",
    "print(\"\")\n",
    "print(final_list)"
   ]
  },
  {
   "cell_type": "markdown",
   "metadata": {
    "id": "bvF30RQlemBW"
   },
   "source": [
    "### Task 8\n",
    "\n",
    "Write a Python program that takes two lists and prints True if they have at least one common member.\n",
    "\n",
    "===================================================================\n",
    "\n",
    "**Sample Input 1:**\\\n",
    "List_one : [1, 4, 3, 2, 6]\\\n",
    "List_two : [5, 6, 9, 8, 7]\n",
    "\n",
    "**Sample Output 1:**\\\n",
    "True\n",
    "\n",
    "===================================================================\n",
    "\n",
    "**Sample Input 2:**\\\n",
    "List_one : [1, 4, 3, 2, 5]\\\n",
    "List_two : [8, 7, 6, 9]\n",
    "\n",
    "**Sample Output 2:**\\\n",
    "False\n",
    "\n",
    "===================================================================\n"
   ]
  },
  {
   "cell_type": "code",
   "execution_count": 38,
   "metadata": {
    "id": "yIlAlqlGe7IA"
   },
   "outputs": [
    {
     "name": "stdout",
     "output_type": "stream",
     "text": [
      "Please enter the first list (beginning with '[' and ending with ']' and each element separated by ', ') : [1, 4, 3, 2, 5]\n",
      "Please enter the second list (beginning with '[' and ending with ']' and each element separated by ', ') : [8, 7, 6, 9]\n",
      "\n",
      "False\n"
     ]
    }
   ],
   "source": [
    "#to do\n",
    "\n",
    "# taking input and processing the first list\n",
    "user_input_one = input(\"Please enter the first list (beginning with '[' and ending with ']' and each element separated by ', ') : \")\n",
    "list_one = user_input_one[1:-1].split(\", \")\n",
    "length_one = len(list_one)\n",
    "for index in range(length_one):\n",
    "    list_one[index] = int(list_one[index])\n",
    "\n",
    "# taking input and processing the second list\n",
    "user_input_two = input(\"Please enter the second list (beginning with '[' and ending with ']' and each element separated by ', ') : \")\n",
    "list_two = user_input_two[1:-1].split(\", \")\n",
    "length_two = len(list_two)\n",
    "for index in range(length_two):\n",
    "    list_two[index] = int(list_two[index])\n",
    "    \n",
    "# comparing two lists and checking for any similar member\n",
    "common_found = False\n",
    "\n",
    "if length_one < length_two:    # checks which list is smaller in order to iterating less times\n",
    "    for index in range(length_one):\n",
    "        member = list_one[index]\n",
    "        if member in list_two:\n",
    "            common_found = True\n",
    "            break\n",
    "else:\n",
    "    for index in range(length_two):\n",
    "        member = list_two[index]\n",
    "        if member in list_one:\n",
    "            common_found = True\n",
    "            break\n",
    "\n",
    "# printing the final result\n",
    "print(\"\\n\", common_found, sep = \"\")"
   ]
  },
  {
   "cell_type": "markdown",
   "metadata": {
    "id": "vyFt-Ra5erR4"
   },
   "source": [
    "### Task 9\n",
    "\n",
    "Write a Python program that reads 10 numbers into a list and prints the numbers of that specified list after removing **even numbers** from it.\n",
    "\n",
    "=========================================================================\n",
    "\n",
    "**Sample Input:**\n",
    "\n",
    "7,12,4,55,96,2,11,61,33,42\n",
    "\n",
    "**Sample Output:**\n",
    "\n",
    "[7, 55, 11, 61, 33]\n",
    "\n",
    "=========================================================================\n",
    "\n",
    "\n",
    "\n"
   ]
  },
  {
   "cell_type": "code",
   "execution_count": 41,
   "metadata": {
    "id": "1U3bswq9e9B3"
   },
   "outputs": [
    {
     "name": "stdout",
     "output_type": "stream",
     "text": [
      "Please enter 10 numbers to add in a List (Separated by ',' , without []) : 7,12,4,55,96,2,11,61,33,42\n",
      "\n",
      "[7, 55, 11, 61, 33]\n"
     ]
    }
   ],
   "source": [
    "#to do\n",
    "\n",
    "# taking 10 inputs from the user as a list\n",
    "user_input = input(\"Please enter 10 numbers to add in a List (Separated by ',' , without []) : \")\n",
    "main_list = user_input.split(\",\")\n",
    "length = len(main_list)\n",
    "for index in range(length):\n",
    "    main_list[index] = int(main_list[index])\n",
    "\n",
    "new_list = []\n",
    "\n",
    "for index in range(len(main_list)):\n",
    "    member = main_list[index]\n",
    "    if (member % 2) != 0:     # appending the member if its an odd number\n",
    "        new_list.append(member)\n",
    "        \n",
    "print(\"\\n\", new_list, sep = \"\")"
   ]
  },
  {
   "cell_type": "markdown",
   "metadata": {
    "id": "G9jPuLWOetqd"
   },
   "source": [
    "### Task 10\n",
    "\n",
    "Write a Python program that removes all Empty strings from a given list and print the new list.\n",
    "\n",
    "=========================================================================\n",
    "\n",
    "**Sample Input:**\n",
    "\n",
    "[\"hey\", \"there\", \" \", \"what's\", \" \", \"up\", \" \", \"?\"]\n",
    "\n",
    "**Sample Output:**\n",
    "\n",
    "Original List:\n",
    "[\"hey\", \"there\", \" \", \"what's\", \" \", \"up\", \" \", \"?\"]\n",
    "\n",
    "Modified List:\n",
    "[\"hey\", \"there\", \"what's\", \"up\", \"?\"]\n",
    "\n",
    "==========================================================================\n",
    "\n",
    "\n"
   ]
  },
  {
   "cell_type": "code",
   "execution_count": 8,
   "metadata": {
    "id": "OlrhifBge-TA"
   },
   "outputs": [
    {
     "name": "stdout",
     "output_type": "stream",
     "text": [
      "Please enter the first list (beginning with '[' and ending with ']' and each element separated by ', ' and enclosed in \"\") : [\"hey\", \"there\", \" \", \"what's\", \" \", \"     up\", \" \", \"?\"]\n",
      "\n",
      "Original List: [\"hey\", \"there\", \" \", \"what's\", \" \", \"     up\", \" \", \"?\"]\n",
      "Modified List: [\"hey\", \"there\", \"what's\", \"up\", \"?\"]\n"
     ]
    }
   ],
   "source": [
    "#to do\n",
    "\n",
    "# taking input and processing the first list\n",
    "user_input = input(\"Please enter the first list (beginning with '[' and ending with ']' and each element separated by ', ' and enclosed in \\\"\\\") : \")\n",
    "main_list = user_input[2:-2].split(\"\\\", \\\"\")\n",
    "\n",
    "modified_list = main_list.copy()    # initially copying the whole string\n",
    "\n",
    "empty_string = \" \"\n",
    "while empty_string in modified_list :    # now removing empty string\n",
    "    modified_list.remove(empty_string)\n",
    "    \n",
    "# printing the result\n",
    "print(\"\\nOriginal List: [\\\"\", main_list[0], \"\\\"\", sep = \"\", end = \"\")\n",
    "for strings in main_list[1:] :\n",
    "    print(', \"', strings, '\"', sep = \"\", end = \"\")\n",
    "print(\"]\")\n",
    "\n",
    "print(\"Modified List: [\\\"\", modified_list[0], \"\\\"\", sep = \"\", end = \"\")\n",
    "for strings in modified_list[1:] :\n",
    "    print(', \"', strings.strip(), '\"', sep = \"\", end = \"\")     # strip() to remove whitespaces both before and after\n",
    "print(\"]\")"
   ]
  },
  {
   "cell_type": "markdown",
   "metadata": {
    "id": "UjTy79X6ewce"
   },
   "source": [
    "## Task 11\n",
    "\n",
    "Write a Python program that replaces the last element of first list with second list.\n",
    "\n",
    "===================================================================\n",
    "\n",
    "**Sample Input 1:**\\\n",
    "List_one : [1, 4, 7, 5]\\\n",
    "List_two : [6, 1, 3, 9]\n",
    "\n",
    "**Sample Output 1:**\\\n",
    "[1, 4, 7, 6, 1, 3, 9]\n",
    "\n",
    "===================================================================\n",
    "\n",
    "**Sample Input 2:**\\\n",
    "List_one : [1, 3, 5, 7, 9, 10]\\\n",
    "List_two : [2, 4, 6, 8]\n",
    "\n",
    "**Sample Output 2:**\\\n",
    "[1, 3, 5, 7, 9, 2, 4, 6, 8]\n",
    "\n",
    "===================================================================\n",
    "\n",
    "\n",
    "\n"
   ]
  },
  {
   "cell_type": "code",
   "execution_count": 68,
   "metadata": {
    "id": "bBseKJuse_bX"
   },
   "outputs": [
    {
     "name": "stdout",
     "output_type": "stream",
     "text": [
      "Please enter the first list (beginning with '[' and ending with ']' and each element separated by ', ') : [1, 3, 5, 7, 9, 10]\n",
      "Please enter the second list (beginning with '[' and ending with ']' and each element separated by ', ') : [2, 4, 6, 8]\n",
      "\n",
      "[1, 3, 5, 7, 9, 2, 4, 6, 8]\n"
     ]
    }
   ],
   "source": [
    "#to do\n",
    "\n",
    "# taking input and processing the first list\n",
    "user_input_one = input(\"Please enter the first list (beginning with '[' and ending with ']' and each element separated by ', ') : \")\n",
    "list_one = user_input_one[1:-1].split(\", \")\n",
    "length_one = len(list_one)\n",
    "for index in range(length_one):\n",
    "    list_one[index] = int(list_one[index])\n",
    "\n",
    "# taking input and processing the second list\n",
    "user_input_two = input(\"Please enter the second list (beginning with '[' and ending with ']' and each element separated by ', ') : \")\n",
    "list_two = user_input_two[1:-1].split(\", \")\n",
    "length_two = len(list_two)\n",
    "for index in range(length_two):\n",
    "    list_two[index] = int(list_two[index])\n",
    "    \n",
    "# processing the output\n",
    "list_one.pop()\n",
    "list_one.extend(list_two)\n",
    "\n",
    "print(\"\")\n",
    "print(list_one)"
   ]
  },
  {
   "cell_type": "markdown",
   "metadata": {
    "id": "4pBLPmvre0jv"
   },
   "source": [
    "### Task 12\n",
    "\n",
    "Write a Python program that turns every item of a list into its square.\n",
    "\n",
    "===================================================================\n",
    "\n",
    "**Sample Input 1:**\\\n",
    "[1, 2, 3, 4, 5, 6, 7]\n",
    "\n",
    "**Sample Output 1:**\\\n",
    "[1, 4, 9, 16, 25, 36, 49]\n",
    "\n",
    "===================================================================\n",
    "\n",
    "**Sample Input 2:**\\\n",
    "[3, 5, 1, 6]\n",
    "\n",
    "**Sample Output 2:**\\\n",
    "[9, 25, 1, 36]\n",
    "\n",
    "\n",
    "===================================================================\n",
    "\n",
    "\n",
    "\n",
    "\n",
    "\n"
   ]
  },
  {
   "cell_type": "code",
   "execution_count": 72,
   "metadata": {
    "id": "5NDg0odDfANt"
   },
   "outputs": [
    {
     "name": "stdout",
     "output_type": "stream",
     "text": [
      "Please enter the list (beginning with '[' and ending with ']' and each element separated by ', ') : [3, 5, 1, 6]\n",
      "\n",
      "[9, 25, 1, 36]\n"
     ]
    }
   ],
   "source": [
    "#to do\n",
    "\n",
    "# taking inputs from the user as a list\n",
    "user_input = input(\"Please enter the list (beginning with '[' and ending with ']' and each element separated by ', ') : \")\n",
    "main_list = user_input[1:-1].split(\", \")\n",
    "\n",
    "# type-casting into integer and turning every item into it's square\n",
    "length = len(main_list)\n",
    "for index in range(length):\n",
    "    main_list[index] = int(main_list[index])\n",
    "    main_list[index] **= 2\n",
    "    \n",
    "# printing the result\n",
    "print(\"\")\n",
    "print(main_list)"
   ]
  },
  {
   "cell_type": "markdown",
   "metadata": {
    "id": "WZXnxHTdGrMC"
   },
   "source": [
    "## Optional Tasks (13-15) [Ungraded]"
   ]
  },
  {
   "cell_type": "markdown",
   "metadata": {
    "id": "lvSiLaobU1zY"
   },
   "source": [
    "### Task 13\n",
    "\n",
    "Write a Python program that reads 5 numbers into a list and prints the smallest and largest number and their locations in the list. <font color='red'>[You are not allowed to use the max(), min(), sort(), sorted() functions here]</font>\n",
    "\n",
    "**Hint:** You may assume the first input to be the largest value initially and the largest value’s location to be 0. Similarly, you can assume the first input to be the smallest value initially and the smallest value’s location to be 0. \n",
    "\n",
    "**Note:** You may need to be careful while printing the output. Depending on your code, you might need data conversion.\n",
    "\n",
    "===================================================================\n",
    "\n",
    "**Sample Input:**\\\n",
    "7, 13, -5, 10, 6\n",
    "\n",
    "**Sample Output:**\\\n",
    "My list: [7, 13, -5, 10, 6]\\\n",
    "Smallest number in the list is -5 which was found at index 2\\\n",
    "Largest number in the list is 13 which was found at index 1\n",
    "\n",
    "==================================================================="
   ]
  },
  {
   "cell_type": "code",
   "execution_count": 74,
   "metadata": {
    "id": "yiS5TWSDU1zY"
   },
   "outputs": [
    {
     "name": "stdout",
     "output_type": "stream",
     "text": [
      "Please enter 5 numbers to add in a List (Separated by ',' , without []) : 7, 13, -5, 10, 6\n",
      "\n",
      "My list: [7, 13, -5, 10, 6]\n",
      "Smallest number in the list is -5 which was found at index 2\n",
      "Largest number in the list is 13 which was found at index 1\n"
     ]
    }
   ],
   "source": [
    "#to do\n",
    "\n",
    "# taking 5 inputs from the user as a list\n",
    "user_input = input(\"Please enter 5 numbers to add in a List (Separated by ',' , without []) : \")\n",
    "main_list = user_input.split(\",\")\n",
    "length = len(main_list)\n",
    "for index in range(length):\n",
    "    main_list[index] = int(main_list[index])\n",
    "\n",
    "max_value = min_value = main_list[0]\n",
    "max_index = min_index = 0\n",
    "\n",
    "for index in range(1, 5):     # finding the maximum and minimum value and index of those\n",
    "    if main_list[index] > max_value :\n",
    "        max_value = main_list[index]\n",
    "        max_index = index\n",
    "    elif main_list[index] < min_value :\n",
    "        min_value = main_list[index]\n",
    "        min_index = index\n",
    "\n",
    "print(\"\\nMy list:\", main_list)\n",
    "print(f\"Smallest number in the list is {min_value} which was found at index {min_index}\")\n",
    "print(f\"Largest number in the list is {max_value} which was found at index {max_index}\")"
   ]
  },
  {
   "cell_type": "markdown",
   "metadata": {
    "id": "rguDZ8SBCHD8"
   },
   "source": [
    "### Task 14\n",
    "Write a Python program that takes two lists as an input from the user. Then print a new list with the **common elements** of both the input lists. \n",
    "\n",
    "*Hint: You may need to create a third list to store the results. You can use membership operators (in, not in) to make sure similar elements are added.*\n",
    "\n",
    "===================================================================\n",
    "\n",
    "**Sample Input 1:**<br/>\n",
    "A, B, C, D\n",
    "\n",
    "\n",
    "C, E , F, B\n",
    "\n",
    "\n",
    "**Sample Output 1:**<br/>\n",
    "['C', 'B']\n",
    "\n",
    "===================================================================\n",
    "\n",
    "**Sample Input 2:**<br/>\n",
    "1, 3, A, H, P\n",
    "\n",
    "\n",
    "A, G, 1, P, O\n",
    "\n",
    "\n",
    "**Sample Output 2:**<br/>\n",
    "['1', 'A', 'P']\n",
    "\n",
    "===================================================================\n"
   ]
  },
  {
   "cell_type": "code",
   "execution_count": 76,
   "metadata": {
    "id": "3iueGiPPGG66"
   },
   "outputs": [
    {
     "name": "stdout",
     "output_type": "stream",
     "text": [
      "Please enter the first list (Each element separated by ', ', without []) : 1, 3, A, H, P\n",
      "Please enter the second list (Each element separated by ', ', without []) : A, G, 1, P, O\n",
      "\n",
      "['A', '1', 'P']\n"
     ]
    }
   ],
   "source": [
    "# to do\n",
    "\n",
    "# taking input and processing the first list\n",
    "user_input_one = input(\"Please enter the first list (Each element separated by ', ', without []) : \")\n",
    "list_one = user_input_one.split(\", \")\n",
    "length_one = len(list_one)\n",
    "\n",
    "# taking input and processing the second list\n",
    "user_input_two = input(\"Please enter the second list (Each element separated by ', ', without []) : \")\n",
    "list_two = user_input_two.split(\", \")\n",
    "length_two = len(list_two)\n",
    "    \n",
    "# comparing two lists and checking for any similar member\n",
    "new_list = []\n",
    "if length_one < length_two:    # checks which list is smaller in order to iterating less times\n",
    "    for index in range(length_one):\n",
    "        member = list_one[index]\n",
    "        if member in list_two:\n",
    "            new_list.append(member)\n",
    "else:\n",
    "    for index in range(length_two):\n",
    "        member = list_two[index]\n",
    "        if member in list_one:\n",
    "            new_list.append(member)\n",
    "\n",
    "# printing the final result\n",
    "print(\"\\n\", new_list, sep = \"\")"
   ]
  },
  {
   "cell_type": "markdown",
   "metadata": {
    "id": "tjcE5oitCM2s"
   },
   "source": [
    "### Task 15\n",
    "\n",
    "\n",
    "Write a Python program that reads 5 numbers into a list and prints the second largest number and its location or index position on the list. <font color='red'>[You are not allowed to use the max(), sort(), sorted() function here]</font>\n",
    "\n",
    "===================================================================\n",
    "\n",
    "**Sample Input:**\\\n",
    " 7, 13, 2, 10, 6\n",
    "\n",
    "**Sample Output:**\\\n",
    "My list: [7, 13, 2, 10, 6]\\\n",
    "Second largest number in the list is 10 which was found at index 3.\n",
    "\n",
    "==================================================================="
   ]
  },
  {
   "cell_type": "code",
   "execution_count": 78,
   "metadata": {
    "id": "b2TwkUqnGZU-"
   },
   "outputs": [
    {
     "name": "stdout",
     "output_type": "stream",
     "text": [
      "Please enter 5 numbers to add in a List (Separated by ',' , without []) : 7, 13, 2, 10, 6\n",
      "\n",
      "My list: [7, 13, 2, 10, 6]\n",
      "Second number in the list is 10 which was found at index 3.\n"
     ]
    }
   ],
   "source": [
    "# to do\n",
    "\n",
    "# taking 5 inputs from the user as a list\n",
    "user_input = input(\"Please enter 5 numbers to add in a List (Separated by ',' , without []) : \")\n",
    "main_list = user_input.split(\",\")\n",
    "length = len(main_list)\n",
    "for index in range(length):\n",
    "    main_list[index] = int(main_list[index])\n",
    "\n",
    "max_value = main_list[0]       # finding the maximum value and index of that\n",
    "max_index = 0\n",
    "for index in range(1, 5):\n",
    "    if main_list[index] > max_value :\n",
    "        max_value = main_list[index]\n",
    "        max_index = index\n",
    "\n",
    "for index in range(5):         # finding the second maximum value and index of that\n",
    "    member = main_list[index]\n",
    "    if member != max_value:\n",
    "        second_max_value = main_list[index]\n",
    "        second_max_index = index\n",
    "        break\n",
    "index += 1\n",
    "while index < 5 :\n",
    "    if (main_list[index] > second_max_value) and (main_list[index] != max_value):\n",
    "        second_max_value = main_list[index]\n",
    "        second_max_index = index\n",
    "    index += 1\n",
    "\n",
    "# showing output\n",
    "print(\"\\nMy list:\", main_list)\n",
    "print(f\"Second number in the list is {second_max_value} which was found at index {second_max_index}.\")"
   ]
  }
 ],
 "metadata": {
  "colab": {
   "collapsed_sections": [],
   "name": "CSE110 Lab Assignment 4.ipynb",
   "provenance": []
  },
  "kernelspec": {
   "display_name": "Python 3",
   "language": "python",
   "name": "python3"
  },
  "language_info": {
   "codemirror_mode": {
    "name": "ipython",
    "version": 3
   },
   "file_extension": ".py",
   "mimetype": "text/x-python",
   "name": "python",
   "nbconvert_exporter": "python",
   "pygments_lexer": "ipython3",
   "version": "3.8.8"
  }
 },
 "nbformat": 4,
 "nbformat_minor": 1
}
