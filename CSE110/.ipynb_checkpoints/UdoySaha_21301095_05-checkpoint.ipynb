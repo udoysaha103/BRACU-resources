{
 "cells": [
  {
   "cell_type": "code",
   "execution_count": 8,
   "id": "a5e19134",
   "metadata": {},
   "outputs": [
    {
     "name": "stdout",
     "output_type": "stream",
     "text": [
      "Please enter the lower number : 351\n",
      "Please enter the upper number : 356\n",
      "Please enter the divisor : 9\n",
      "45 90 "
     ]
    }
   ],
   "source": [
    "#taking input\n",
    "number = input(\"Please enter a number : \")\n",
    "\n",
    "length = len(number) #calculating number of digits\n",
    "\n",
    "if length > 1 :  #if number of digit is more than 1\n",
    "    blissful = 1\n",
    "    index = 1\n",
    "    \n",
    "    while index < length :\n",
    "        if (int(number[index])) <= (int(number[index-1])) :  #checking whether the current digit is greater than the previous digit\n",
    "            blissful = 0\n",
    "            break\n",
    "        index += 1\n",
    "            \n",
    "    if blissful == 1 :\n",
    "        print(number, \"is a blissful number\", end = \"\")\n",
    "    else:\n",
    "        print(number, \"is a normal number\", end = \"\")\n",
    "        \n",
    "else:  #if number of digit is 1 or less\n",
    "    print(number, \"is a normal number\", end = \"\")"
   ]
  }
 ],
 "metadata": {
  "kernelspec": {
   "display_name": "Python 3",
   "language": "python",
   "name": "python3"
  },
  "language_info": {
   "codemirror_mode": {
    "name": "ipython",
    "version": 3
   },
   "file_extension": ".py",
   "mimetype": "text/x-python",
   "name": "python",
   "nbconvert_exporter": "python",
   "pygments_lexer": "ipython3",
   "version": "3.8.8"
  }
 },
 "nbformat": 4,
 "nbformat_minor": 5
}
