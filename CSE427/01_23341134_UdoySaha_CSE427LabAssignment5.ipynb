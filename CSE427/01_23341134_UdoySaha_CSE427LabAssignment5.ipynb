{
  "nbformat": 4,
  "nbformat_minor": 0,
  "metadata": {
    "colab": {
      "provenance": []
    },
    "kernelspec": {
      "name": "python3",
      "display_name": "Python 3"
    },
    "language_info": {
      "name": "python"
    }
  },
  "cells": [
    {
      "cell_type": "code",
      "execution_count": null,
      "metadata": {
        "id": "IxJE6GATitpl"
      },
      "outputs": [],
      "source": [
        "from sklearn.datasets import make_blobs\n",
        "from sklearn.decomposition import PCA\n",
        "import matplotlib.pyplot as plt\n",
        "import numpy as np"
      ]
    },
    {
      "cell_type": "code",
      "source": [
        "X, _ = make_blobs(n_samples = 100, n_features = 4, random_state = 42)\n",
        "# print(X)"
      ],
      "metadata": {
        "id": "Qs3PmL10jAAy"
      },
      "execution_count": null,
      "outputs": []
    },
    {
      "cell_type": "code",
      "source": [
        "X"
      ],
      "metadata": {
        "colab": {
          "base_uri": "https://localhost:8080/"
        },
        "id": "RLQfdcNOIEDo",
        "outputId": "f0cdad37-36f2-4ff2-db8d-e21849ea40e2"
      },
      "execution_count": null,
      "outputs": [
        {
          "output_type": "execute_result",
          "data": {
            "text/plain": [
              "array([[ -8.90476978,  -6.69365528,  -9.50011422,   8.17595625],\n",
              "       [  2.11997633,   3.38844177,  -9.56379994,   9.89619533],\n",
              "       [ -6.6197444 ,  -6.09828672, -10.07527847,   6.0030663 ],\n",
              "       [ -6.52183983,  -6.31932507,  -7.75527651,   8.37732497],\n",
              "       [  2.09810479,   3.48428984,  -8.61319038,   9.25113966],\n",
              "       [  1.18257839,   3.56205891, -11.71220584,   8.87244202],\n",
              "       [  2.97272407,   3.5845479 , -10.48672479,   9.89011621],\n",
              "       [ -2.52269485,   7.9565752 ,   5.46242375,   0.75232603],\n",
              "       [ -7.55965191,  -6.6478559 ,  -8.54525528,   6.6091715 ],\n",
              "       [ -6.35768563,  -6.58312492,  -8.58783491,   7.66997112],\n",
              "       [  2.56939762,   3.9592589 ,  -9.80599132,  10.4969739 ],\n",
              "       [ -5.91625106,  -6.46732867,  -8.0162676 ,   9.2203159 ],\n",
              "       [ -6.8666253 ,  -5.42657552,  -9.10298459,  10.04369208],\n",
              "       [ -7.76348463,  -6.72638449,  -8.78011904,   6.18055262],\n",
              "       [  1.20007984,   4.40513877,  -9.34334354,   8.89125387],\n",
              "       [ -1.77073104,   9.18565441,   4.52423055,   1.67206599],\n",
              "       [ -3.21125072,   8.68662398,   4.24777068,   0.50965474],\n",
              "       [ -2.97867201,   9.55684617,   4.17646114,   1.50743993],\n",
              "       [ -6.25395984,  -7.73726715,  -9.90922025,   7.80599533],\n",
              "       [  4.15533361,   2.20936376,  -9.74009521,   9.98651425],\n",
              "       [ -2.54390939,   7.84560809,   5.78270165,   2.72510272],\n",
              "       [ -7.72642091,  -8.39495682,  -9.28484271,   8.17992171],\n",
              "       [ -3.03895783,   9.52755356,   4.73695639,   2.94181467],\n",
              "       [  1.19680304,   3.84006571,  -9.17537866,   8.83447249],\n",
              "       [ -2.72886951,   9.3713987 ,   6.11777288,   1.45489947],\n",
              "       [  2.54164675,   5.69419047,  -9.69707026,   9.79990877],\n",
              "       [ -2.42215055,   8.71527878,   4.73163961,  -0.01439923],\n",
              "       [ -2.44896741,  11.47752824,   4.44751787,   2.27471703],\n",
              "       [ -5.11417295,  -6.47512788, -10.09921171,   8.24138486],\n",
              "       [  1.30385601,   3.9480044 ,  -9.27740255,  10.87355326],\n",
              "       [ -2.67048333,   9.41833699,   6.52606474,   2.1477475 ],\n",
              "       [  2.70425321,   3.8511848 ,  -9.26414376,   9.26805399],\n",
              "       [  0.42787258,   3.56207653,  -9.58306641,   9.44517764],\n",
              "       [ -7.65245241,  -7.1169282 ,  -9.3236913 ,   7.40539705],\n",
              "       [ -2.30033403,   7.054616  ,   3.31169279,   2.17003092],\n",
              "       [  2.71244423,   3.76023108,  -9.36421763,   9.41078944],\n",
              "       [ -7.12501531,  -7.63384576,  -9.72784219,   6.50771263],\n",
              "       [ -2.40954626,   8.51081047,   3.08921541,   2.04173266],\n",
              "       [ -2.1475616 ,   8.36916637,   5.00127444,   3.51120625],\n",
              "       [  0.30916571,   5.51532393,  -9.70284996,  10.63601336],\n",
              "       [ -2.16557933,   7.25124597,   4.96396281,   1.5880874 ],\n",
              "       [ -3.34841515,   8.70507375,   4.97114227,   2.94871481],\n",
              "       [ -2.26723535,   7.10100588,   2.914961  ,   1.41088215],\n",
              "       [ -3.10983631,   8.72259238,   4.03817222,   3.82544787],\n",
              "       [  2.0037871 ,   3.87279292,  -9.26559155,   8.5709661 ],\n",
              "       [ -7.67214793,  -6.99484603,  -8.33334048,   8.18927811],\n",
              "       [ -5.71646344,  -6.86987653,  -9.81983641,   7.78562639],\n",
              "       [ -3.31769123,   8.51252908,   5.55528095,   2.30192079],\n",
              "       [  1.01628285,   2.94726294,  -8.43019924,  10.18985974],\n",
              "       [  2.00139864,   4.27877894,  -8.31064522,   8.80662565],\n",
              "       [ -7.5949309 ,  -6.20051184,  -9.56869439,   7.53998151],\n",
              "       [ -3.98771961,   8.29444192,   4.17924007,   3.03029191],\n",
              "       [  0.70206703,   5.99291032,  -8.40886999,   8.92902139],\n",
              "       [ -1.71816568,   8.10489867,   6.04267315,   0.57131862],\n",
              "       [  2.64642005,   4.78979707,  -9.60055689,   8.50094267],\n",
              "       [  2.1192962 ,   4.75660858, -10.4065308 ,  11.49058432],\n",
              "       [  2.22135993,   3.56123468,  -9.51850803,   9.01288345],\n",
              "       [ -6.9567289 ,  -6.53895762,  -8.56163696,   8.15070616],\n",
              "       [ -7.35155906,  -5.791159  ,  -8.77404774,   6.24577814],\n",
              "       [  2.13581758,   4.82358223,  -8.0022933 ,   8.16038154],\n",
              "       [ -8.0799236 ,  -7.21461083,  -9.31327307,   6.67019368],\n",
              "       [ -1.6966718 ,  10.37052616,   4.56786871,   2.97670258],\n",
              "       [ -3.92456837,   8.59364081,   4.29716432,   1.17089241],\n",
              "       [ -3.29245092,   8.69222461,   5.45339605,   0.74230537],\n",
              "       [  2.3032921 ,   3.53875204,  -9.79643236,   8.90519611],\n",
              "       [ -5.92562543,  -6.22871834,  -9.153597  ,   8.08249214],\n",
              "       [ -5.61271604,  -7.58777906,  -8.39450833,   8.09815697],\n",
              "       [  1.19330522,   3.60127052,  -8.84101651,  10.00856731],\n",
              "       [ -1.92234053,  11.20474175,   3.64934251,   1.40687195],\n",
              "       [  1.55126193,   4.39350149, -11.03639446,   7.99073327],\n",
              "       [  2.92190011,   4.46875108,  -8.775448  ,  10.02782589],\n",
              "       [ -7.80655766,  -6.93963495, -12.0795951 ,   6.29913527],\n",
              "       [ -5.01385268,  -6.40627667, -10.02963125,   7.98007652],\n",
              "       [  1.57223476,   4.78430149, -10.65593054,   9.25581756],\n",
              "       [ -7.31967168,  -6.74936902,  -7.39705447,   5.88766076],\n",
              "       [ -2.98837186,   8.82862715,   3.53354386,   0.77696306],\n",
              "       [ -2.21307735,   9.2753414 ,   4.64499229,   1.73858255],\n",
              "       [ -6.66553345,  -8.12584837,  -8.66514683,   7.7088403 ],\n",
              "       [ -2.54502366,  10.57892978,   2.02013373,   2.79507219],\n",
              "       [ -6.83405535,  -7.53170994,  -6.69438367,   7.95744194],\n",
              "       [ -3.05358035,   9.12520872,   3.48888526,   2.3488677 ],\n",
              "       [  2.87995986,   4.00151303,  -9.60732632,   8.39566768],\n",
              "       [  1.26316757,   4.31184534,  -9.24655414,  11.27436788],\n",
              "       [ -3.18611962,   9.62596242,   5.67087836,   2.9044498 ],\n",
              "       [ -8.25729656,  -7.81793463,  -8.32329249,   7.83730887],\n",
              "       [ -3.52202874,   9.32853346,   3.73185476,   0.56086598],\n",
              "       [ -4.56496862,  -8.74737479,  -8.15206757,   5.71080704],\n",
              "       [  2.89462087,   4.34479356,  -7.39850718,   8.58989876],\n",
              "       [ -2.25164723,   8.93984021,   2.72110762,   1.94665581],\n",
              "       [ -7.85430886,  -6.09302499,  -7.67973218,   6.5028406 ],\n",
              "       [  1.43293548,   5.01105365,  -9.23129463,   8.70528745],\n",
              "       [  3.47344384,   5.12072238,  -7.43512766,   8.63084948],\n",
              "       [ -2.28173769,  10.32142888,   3.0323956 ,   2.15780354],\n",
              "       [ -3.57150134,   9.48787856,   3.7204546 ,   3.52310409],\n",
              "       [ -7.13219534,  -8.12789278,  -7.20591645,   5.89338154],\n",
              "       [ -4.75747099,  -5.84764433, -10.35769772,   6.83928884],\n",
              "       [ -1.04354885,   8.78850983,   4.70740704,   0.5484215 ],\n",
              "       [  2.84771658,   4.97496119,  -8.28283131,   9.41920088],\n",
              "       [ -7.10308998,  -6.1661091 ,  -8.36509013,   7.250694  ],\n",
              "       [ -6.3645795 ,  -3.0273781 ,  -8.26743725,   8.45908856]])"
            ]
          },
          "metadata": {},
          "execution_count": 3
        }
      ]
    },
    {
      "cell_type": "code",
      "source": [
        "print(X.shape)"
      ],
      "metadata": {
        "colab": {
          "base_uri": "https://localhost:8080/"
        },
        "id": "iI_DbcsHmGja",
        "outputId": "52947b7d-e7fd-4b53-a3b6-4aafcc217b94"
      },
      "execution_count": null,
      "outputs": [
        {
          "output_type": "stream",
          "name": "stdout",
          "text": [
            "(100, 4)\n"
          ]
        }
      ]
    },
    {
      "cell_type": "markdown",
      "source": [
        "### PCA (No Reduction)"
      ],
      "metadata": {
        "id": "KXY1HY0YqbiD"
      }
    },
    {
      "cell_type": "code",
      "source": [
        "pca4 = PCA()\n",
        "X_transform = pca4.fit_transform(X)\n",
        "print(X_transform)\n",
        "print(X_transform.shape)"
      ],
      "metadata": {
        "colab": {
          "base_uri": "https://localhost:8080/"
        },
        "id": "X0fcE94OjQ0A",
        "outputId": "6ede521f-b39b-4b99-d14c-73318a791497"
      },
      "execution_count": null,
      "outputs": [
        {
          "output_type": "stream",
          "name": "stdout",
          "text": [
            "[[-1.07238888e+01 -5.48021223e+00 -1.85151532e+00  7.92356810e-01]\n",
            " [-3.03277358e+00  7.22928968e+00  8.23514519e-02 -5.23869865e-01]\n",
            " [-9.78253471e+00 -4.20177716e+00  8.43931417e-01  1.71001273e+00]\n",
            " [-9.07270173e+00 -4.47763393e+00 -6.73329899e-01 -1.15283809e+00]\n",
            " [-2.15348902e+00  6.59256193e+00  4.44683135e-01 -6.63772580e-01]\n",
            " [-4.15871935e+00  7.33198429e+00  1.71511895e-01  1.77533150e+00]\n",
            " [-3.40197915e+00  8.30680971e+00  5.71486359e-01 -2.39531274e-01]\n",
            " [ 1.20934385e+01 -3.80206287e+00  1.22755852e+00 -3.99555649e-01]\n",
            " [-9.43633283e+00 -5.57526434e+00  1.39080270e-02  6.15240952e-01]\n",
            " [-9.57737235e+00 -4.36240629e+00  2.96965263e-02 -4.26323187e-01]\n",
            " [-2.92346640e+00  8.12329161e+00 -2.52719919e-01 -6.78604779e-01]\n",
            " [-9.51464560e+00 -3.73342461e+00 -7.99184091e-01 -1.78718162e+00]\n",
            " [-9.88627801e+00 -3.05872277e+00 -2.32452985e+00 -8.25273328e-01]\n",
            " [-9.54644884e+00 -5.78949579e+00  2.11216106e-01  1.05071600e+00]\n",
            " [-2.02029257e+00  6.65955715e+00 -2.10570908e-01  7.02047857e-01]\n",
            " [ 1.21341571e+01 -1.95767355e+00  6.33417912e-01 -1.85592303e-01]\n",
            " [ 1.17684410e+01 -3.42414994e+00  7.09733996e-01  1.02338781e+00]\n",
            " [ 1.20517511e+01 -2.46621609e+00 -1.48826651e-01  7.45878143e-01]\n",
            " [-1.12628633e+01 -4.19077431e+00  4.76085470e-01 -2.31991208e-01]\n",
            " [-3.72051583e+00  8.10606098e+00  1.75704439e+00 -1.75911396e+00]\n",
            " [ 1.16549231e+01 -3.31904377e+00 -8.55827481e-02 -1.76236392e+00]\n",
            " [-1.15895670e+01 -5.62761979e+00 -4.68538920e-01 -4.90428890e-01]\n",
            " [ 1.19791958e+01 -2.27130011e+00 -1.15956899e+00 -3.99207738e-01]\n",
            " [-2.27667995e+00  6.28719495e+00  3.71711325e-02  4.10516714e-01]\n",
            " [ 1.32584453e+01 -3.30968333e+00  6.65958975e-02 -5.40313574e-01]\n",
            " [-1.47433193e+00  8.64398053e+00 -4.63337042e-01  3.66887454e-01]\n",
            " [ 1.23597666e+01 -3.30380283e+00  1.53808401e+00  7.37120887e-01]\n",
            " [ 1.33794532e+01 -1.04781588e+00 -1.07363935e+00  7.02729357e-01]\n",
            " [-1.05147101e+01 -2.59473931e+00  4.22536739e-01 -3.20546931e-01]\n",
            " [-2.84940342e+00  7.17864158e+00 -1.31308206e+00 -7.05501836e-01]\n",
            " [ 1.33670034e+01 -3.19254290e+00 -3.93240821e-01 -1.18482597e+00]\n",
            " [-2.26424067e+00  7.47329474e+00  6.91092727e-01 -3.85599419e-01]\n",
            " [-3.00947243e+00  6.05528930e+00 -7.43850755e-01  4.93834607e-01]\n",
            " [-1.05133096e+01 -5.21960667e+00 -3.84752119e-01  4.62671948e-01]\n",
            " [ 9.67269540e+00 -2.59335617e+00  8.06221738e-01 -4.03017573e-01]\n",
            " [-2.43269795e+00  7.53170620e+00  6.36899620e-01 -4.48854595e-01]\n",
            " [-1.08051498e+01 -5.25450440e+00  7.61676795e-01  8.00134688e-01]\n",
            " [ 1.05376814e+01 -1.90540957e+00  2.74214035e-01  4.29978677e-01]\n",
            " [ 1.13144689e+01 -2.16721784e+00 -5.48003355e-01 -1.70450901e+00]\n",
            " [-2.12303768e+00  7.39621091e+00 -2.36612473e+00  7.08530537e-01]\n",
            " [ 1.10865853e+01 -3.38159626e+00  1.16864321e+00 -1.01434407e+00]\n",
            " [ 1.15348942e+01 -2.97611305e+00 -1.05112955e+00 -7.47350282e-01]\n",
            " [ 9.66591967e+00 -2.63450701e+00  1.33261136e+00  2.73831865e-01]\n",
            " [ 1.07042758e+01 -2.06910866e+00 -1.47737553e+00 -7.92641317e-01]\n",
            " [-2.13625445e+00  6.77929666e+00  7.13260734e-01  3.06172271e-01]\n",
            " [-1.00043994e+01 -5.35459889e+00 -9.98422143e-01 -5.15465492e-01]\n",
            " [-1.05411419e+01 -3.46974043e+00  4.95184913e-01 -1.39595775e-01]\n",
            " [ 1.19827019e+01 -3.54835435e+00 -5.35396094e-01 -8.07392337e-01]\n",
            " [-2.80546580e+00  5.87380479e+00 -6.71019020e-01 -1.09613922e+00]\n",
            " [-1.29669540e+00  6.61468877e+00  3.73817312e-01 -2.27785873e-01]\n",
            " [-1.00851329e+01 -4.57920577e+00 -7.83079407e-01  8.73955167e-01]\n",
            " [ 1.06274107e+01 -3.19664372e+00 -1.33255411e+00 -2.37710486e-01]\n",
            " [-3.96663102e-01  6.67969554e+00 -1.17859228e+00  9.66734236e-01]\n",
            " [ 1.27322325e+01 -3.53708328e+00  1.78558109e+00 -8.98613651e-01]\n",
            " [-1.63430617e+00  7.77191737e+00  8.23739615e-01  6.54776990e-01]\n",
            " [-3.12484247e+00  8.84310819e+00 -1.49739108e+00 -3.98653691e-01]\n",
            " [-2.61628034e+00  7.04508196e+00  6.76523429e-01 -1.20223946e-02]\n",
            " [-9.74489631e+00 -4.57485213e+00 -6.90116741e-01 -4.61924578e-01]\n",
            " [-8.87448661e+00 -5.04901952e+00  6.95490111e-02  1.22016429e+00]\n",
            " [-5.17988554e-01  6.59353495e+00  6.80020342e-01  1.28583735e-01]\n",
            " [-1.04130786e+01 -5.81151313e+00 -1.19697352e-01  1.01244692e+00]\n",
            " [ 1.25982738e+01 -8.96339201e-01 -6.55365071e-01 -5.18143467e-01]\n",
            " [ 1.14563836e+01 -3.72426043e+00 -1.52359946e-01  8.60627751e-01]\n",
            " [ 1.24931310e+01 -3.95041483e+00  4.69226598e-01  2.14493743e-01]\n",
            " [-2.77408871e+00  7.17839103e+00  8.16411415e-01  1.71861832e-01]\n",
            " [-9.77689760e+00 -3.50090909e+00 -9.84054948e-02 -3.61961064e-01]\n",
            " [-1.01621537e+01 -4.29715404e+00  5.87671542e-01 -1.48814459e+00]\n",
            " [-2.55860212e+00  6.43081528e+00 -6.76256584e-01 -5.58114306e-01]\n",
            " [ 1.29836205e+01 -7.72571273e-01 -3.12619243e-02  1.35310886e+00]\n",
            " [-2.84414697e+00  7.34868035e+00  6.66001881e-01  2.07274706e+00]\n",
            " [-1.71432926e+00  7.95609925e+00  6.65931466e-02 -9.50694711e-01]\n",
            " [-1.19167358e+01 -4.35068753e+00  2.67085412e-01  2.85526141e+00]\n",
            " [-1.03333980e+01 -2.62069564e+00  6.34433749e-01 -2.23181702e-01]\n",
            " [-2.69133002e+00  7.82261837e+00 -3.34881445e-01  1.26737892e+00]\n",
            " [-8.50506234e+00 -6.25439056e+00  6.63215564e-01  2.19310571e-01]\n",
            " [ 1.13421836e+01 -2.78453847e+00  6.32836129e-01  1.25727259e+00]\n",
            " [ 1.22001262e+01 -2.23616456e+00  2.72693117e-01 -8.21983425e-02]\n",
            " [-1.07261855e+01 -5.25773107e+00  4.00021517e-01 -8.99329619e-01]\n",
            " [ 1.09981742e+01 -2.35483591e-01 -1.08302268e+00  1.50846363e+00]\n",
            " [-9.11060818e+00 -5.90610580e+00 -1.49756016e-01 -1.89651316e+00]\n",
            " [ 1.10495111e+01 -2.10687517e+00 -5.83325207e-01  5.21637997e-01]\n",
            " [-2.11416163e+00  7.51062334e+00  1.34287959e+00  3.09785577e-01]\n",
            " [-2.70336101e+00  7.45504629e+00 -1.74933705e+00 -7.92641952e-01]\n",
            " [ 1.26570121e+01 -2.76580530e+00 -1.28766757e+00 -8.28821097e-01]\n",
            " [-1.05280816e+01 -6.26335956e+00 -8.15084269e-01 -4.14692287e-01]\n",
            " [ 1.18086431e+01 -3.06105262e+00  2.47326997e-01  1.67924335e+00]\n",
            " [-9.96425841e+00 -5.12840397e+00  3.29830968e+00 -1.13749378e+00]\n",
            " [-4.72423895e-01  6.73169202e+00  1.03501219e+00 -9.69997629e-01]\n",
            " [ 1.06326313e+01 -1.45857798e+00  2.83396070e-01  8.10482707e-01]\n",
            " [-8.49241210e+00 -5.93903420e+00 -3.32846609e-01  5.07802858e-01]\n",
            " [-1.45135275e+00  6.98615316e+00 -1.72112483e-01  8.93506846e-01]\n",
            " [ 9.11179269e-02  7.51574030e+00  1.07668062e+00 -8.92073130e-01]\n",
            " [ 1.17119472e+01 -8.81763521e-01 -4.13132985e-01  1.07198934e+00]\n",
            " [ 1.10432056e+01 -1.96223802e+00 -1.84766741e+00  6.04372278e-02]\n",
            " [-9.29264233e+00 -6.88260895e+00  1.29854821e+00 -5.24633945e-01]\n",
            " [-9.80798603e+00 -2.43586867e+00  1.36239716e+00  7.49791234e-01]\n",
            " [ 1.24034148e+01 -2.15616265e+00  1.99817501e+00 -9.51008038e-02]\n",
            " [-8.76918761e-01  7.70789298e+00  2.26157687e-01 -6.56545217e-01]\n",
            " [-9.11866198e+00 -4.90065346e+00 -3.20717719e-01  1.49891209e-01]\n",
            " [-7.18048348e+00 -2.52211135e+00 -1.87275091e+00  3.59600440e-01]]\n",
            "(100, 4)\n"
          ]
        }
      ]
    },
    {
      "cell_type": "code",
      "source": [
        "print(pca4.mean_) # Per-feature empirical mean\n",
        "\n",
        "print()\n",
        "\n",
        "print(pca4.get_covariance()) # Computes data covariance"
      ],
      "metadata": {
        "colab": {
          "base_uri": "https://localhost:8080/"
        },
        "id": "cWZvkOXtk794",
        "outputId": "265f523a-b766-4736-ec68-f27f6122df64"
      },
      "execution_count": null,
      "outputs": [
        {
          "output_type": "stream",
          "name": "stdout",
          "text": [
            "[-2.48892686  2.20540469 -4.51362878  6.20895082]\n",
            "\n",
            "[[ 13.80193262  15.51157331  -1.41925904   3.26119327]\n",
            " [ 15.51157331  44.85376259  30.70107234 -11.4454789 ]\n",
            " [ -1.41925904  30.70107234  42.52791313 -20.16421585]\n",
            " [  3.26119327 -11.4454789  -20.16421585  11.18942465]]\n"
          ]
        }
      ]
    },
    {
      "cell_type": "code",
      "source": [
        "# Eigenvectors of the covariance matrix\n",
        "# Principal axes in feature space, representing the directions of maximum variance in the data\n",
        "print(pca4.components_)"
      ],
      "metadata": {
        "colab": {
          "base_uri": "https://localhost:8080/"
        },
        "id": "Rgj5KYLFlTEM",
        "outputId": "16666c2f-eada-4edb-acc8-846d0dfd3bea"
      },
      "execution_count": null,
      "outputs": [
        {
          "output_type": "stream",
          "name": "stdout",
          "text": [
            "[[ 0.12574038  0.67906435  0.66241982 -0.29027738]\n",
            " [ 0.65413991  0.48194831 -0.46303191  0.35415852]\n",
            " [ 0.62966556 -0.38149129 -0.02480218 -0.67629175]\n",
            " [-0.39976446  0.4013251  -0.58837598 -0.57700975]]\n"
          ]
        }
      ]
    },
    {
      "cell_type": "code",
      "source": [
        "print(pca4.explained_variance_) # eigenvalues of the covariance matrix\n",
        "print(pca4.explained_variance_ratio_) # Percentage of variance explained by each of the selected components"
      ],
      "metadata": {
        "colab": {
          "base_uri": "https://localhost:8080/"
        },
        "id": "XxsuRRHfmEHA",
        "outputId": "5e231646-7388-42ba-e3cf-c018b7cdb788"
      },
      "execution_count": null,
      "outputs": [
        {
          "output_type": "stream",
          "name": "stdout",
          "text": [
            "[82.56711569 28.00060498  0.95726078  0.84805154]\n",
            "[0.73475916 0.24917548 0.0085186  0.00754675]\n"
          ]
        }
      ]
    },
    {
      "cell_type": "code",
      "source": [
        "# Getting back the original data\n",
        "X_new_original = pca4.inverse_transform(X_transform)\n",
        "print(X_new_original.shape)\n",
        "\n",
        "# Comparing a particular instance\n",
        "print(X[0], X_new_original[0])"
      ],
      "metadata": {
        "colab": {
          "base_uri": "https://localhost:8080/"
        },
        "id": "OdCLBtkymkmH",
        "outputId": "8b1bb4c6-6562-4bc4-eb12-1b91db90a6af"
      },
      "execution_count": null,
      "outputs": [
        {
          "output_type": "stream",
          "name": "stdout",
          "text": [
            "(100, 4)\n",
            "[-8.90476978 -6.69365528 -9.50011422  8.17595625] [-8.90476978 -6.69365528 -9.50011422  8.17595625]\n"
          ]
        }
      ]
    },
    {
      "cell_type": "markdown",
      "source": [
        "### PCA (n_components = 2)"
      ],
      "metadata": {
        "id": "fc8VoGaTrOjb"
      }
    },
    {
      "cell_type": "code",
      "source": [
        "pca2 = PCA(n_components = 2)\n",
        "X_transform = pca2.fit_transform(X)\n",
        "# print(X_transform)\n",
        "print(X_transform.shape)"
      ],
      "metadata": {
        "colab": {
          "base_uri": "https://localhost:8080/"
        },
        "outputId": "57ffa2e0-cb59-4331-8f67-aa7715486de4",
        "id": "6FImMFWerVSP"
      },
      "execution_count": null,
      "outputs": [
        {
          "output_type": "stream",
          "name": "stdout",
          "text": [
            "(100, 2)\n"
          ]
        }
      ]
    },
    {
      "cell_type": "code",
      "source": [
        "# Eigenvectors of the covariance matrix\n",
        "# Principal axes in feature space, representing the directions of maximum variance in the data\n",
        "print(pca2.components_)"
      ],
      "metadata": {
        "colab": {
          "base_uri": "https://localhost:8080/"
        },
        "outputId": "331439c7-8b45-4536-d0e2-bf795330186e",
        "id": "y4qk_mCprVSQ"
      },
      "execution_count": null,
      "outputs": [
        {
          "output_type": "stream",
          "name": "stdout",
          "text": [
            "[[ 0.12574038  0.67906435  0.66241982 -0.29027738]\n",
            " [ 0.65413991  0.48194831 -0.46303191  0.35415852]]\n"
          ]
        }
      ]
    },
    {
      "cell_type": "code",
      "source": [
        "print(pca2.explained_variance_) # eigenvalues of the covariance matrix\n",
        "print(pca2.explained_variance_ratio_) # Percentage of variance explained by each of the selected components"
      ],
      "metadata": {
        "colab": {
          "base_uri": "https://localhost:8080/"
        },
        "outputId": "a5fe04ea-ed05-4c5e-a4bc-0abae5429a1a",
        "id": "o4x0bFZ1rVSQ"
      },
      "execution_count": null,
      "outputs": [
        {
          "output_type": "stream",
          "name": "stdout",
          "text": [
            "[82.56711569 28.00060498]\n",
            "[0.73475916 0.24917548]\n"
          ]
        }
      ]
    },
    {
      "cell_type": "code",
      "source": [
        "# Trying to get back the original data\n",
        "X_new_original = pca2.inverse_transform(X_transform)\n",
        "print(X_new_original.shape)\n",
        "\n",
        "# Comparing a particular instance\n",
        "print(X[0], X_new_original[0])"
      ],
      "metadata": {
        "colab": {
          "base_uri": "https://localhost:8080/"
        },
        "outputId": "ac24dd19-e9aa-402f-8cb5-869e4bfec26a",
        "id": "M6LelYv_rVSR"
      },
      "execution_count": null,
      "outputs": [
        {
          "output_type": "stream",
          "name": "stdout",
          "text": [
            "(100, 4)\n",
            "[-8.90476978 -6.69365528 -9.50011422  8.17595625] [-7.42217825 -7.71798492 -9.07983212  7.38098931]\n"
          ]
        }
      ]
    },
    {
      "cell_type": "code",
      "source": [
        "# Plot the transformed data\n",
        "plt.scatter(X_transform[:, 0], X_transform[:, 1])\n",
        "plt.title('PCA Visualization')\n",
        "plt.xlabel('Principal Component 1')\n",
        "plt.ylabel('Principal Component 2')\n",
        "plt.show()"
      ],
      "metadata": {
        "colab": {
          "base_uri": "https://localhost:8080/",
          "height": 472
        },
        "id": "TLBxAhwinevh",
        "outputId": "8d09ccda-46d1-4036-e036-5994dc68fc3b"
      },
      "execution_count": null,
      "outputs": [
        {
          "output_type": "display_data",
          "data": {
            "text/plain": [
              "<Figure size 640x480 with 1 Axes>"
            ],
            "image/png": "[encoded data removed]"
          },
          "metadata": {}
        }
      ]
    },
    {
      "cell_type": "markdown",
      "source": [
        "### PCA (From Scratch)"
      ],
      "metadata": {
        "id": "32S1tlNKstQc"
      }
    },
    {
      "cell_type": "code",
      "source": [
        "# Calculate the mean of each feature [Hint: np.mean(?) ]\n",
        "mean_vals = [np.mean(X[:, col]) for col in range(X.shape[1])]\n",
        "\n",
        "# Adjust the data by subtracting the mean\n",
        "data_adjust = X - mean_vals\n",
        "\n",
        "# Calculate the covariance matrix [Hint: np.cov(?) ]\n",
        "cov_matrix = np.cov(data_adjust, rowvar=False)\n",
        "\n",
        "# Calculate the eigenvalues and eigenvectors of the covariance matrix [Hint: np.linalg.eig(?) ]\n",
        "eigenvalues, eigenvectors = np.linalg.eig(cov_matrix)\n",
        "\n",
        "# Sort the eigenvalues and corresponding eigenvectors in descending order\n",
        "for i in range(len(eigenvalues)-1):\n",
        "  max_index = i\n",
        "  for j in range(i+1, len(eigenvalues)):\n",
        "    if eigenvalues[j] > eigenvalues[max_index]:\n",
        "      max_index = j\n",
        "  if max_index != i:\n",
        "    temp = eigenvalues[i]\n",
        "    eigenvalues[i] = eigenvalues[max_index]\n",
        "    eigenvalues[max_index] = temp\n",
        "\n",
        "    temp = eigenvectors[:, i]\n",
        "    eigenvectors[:, i] = eigenvectors[:, max_index]\n",
        "    eigenvectors[:, max_index] = temp\n",
        "\n",
        "# Choose the top n_comp eigenvectors to form the feature matrix\n",
        "n_comp = 2\n",
        "feature_matrix = eigenvectors[:, :n_comp]\n",
        "\n",
        "# Project the original data onto the new subspace\n",
        "transformed_data = data_adjust @ feature_matrix"
      ],
      "metadata": {
        "id": "AcBjkB9osS2k"
      },
      "execution_count": null,
      "outputs": []
    },
    {
      "cell_type": "code",
      "source": [
        "transformed_data.shape"
      ],
      "metadata": {
        "colab": {
          "base_uri": "https://localhost:8080/"
        },
        "id": "MEmCxdtHBQh3",
        "outputId": "a0e787ec-48a0-457e-abf2-2d638103aa82"
      },
      "execution_count": null,
      "outputs": [
        {
          "output_type": "execute_result",
          "data": {
            "text/plain": [
              "(100, 2)"
            ]
          },
          "metadata": {},
          "execution_count": 78
        }
      ]
    },
    {
      "cell_type": "code",
      "source": [
        "print(data_adjust.shape)\n",
        "print(feature_matrix.shape)"
      ],
      "metadata": {
        "colab": {
          "base_uri": "https://localhost:8080/"
        },
        "id": "q4hyiKuNBiEd",
        "outputId": "09d19cf0-b2bb-4239-be44-da45fee7d82e"
      },
      "execution_count": null,
      "outputs": [
        {
          "output_type": "stream",
          "name": "stdout",
          "text": [
            "(100, 4)\n",
            "(4, 2)\n"
          ]
        }
      ]
    },
    {
      "cell_type": "code",
      "source": [
        "# Visualize the results\n",
        "plt.scatter(transformed_data[:, 0], transformed_data[:, 1])\n",
        "plt.title('PCA Visualization (Scratch)')\n",
        "plt.xlabel('Principal Component 1')\n",
        "plt.ylabel('Principal Component 2')\n",
        "plt.show()"
      ],
      "metadata": {
        "id": "jPfdx0O-uIuG",
        "colab": {
          "base_uri": "https://localhost:8080/",
          "height": 472
        },
        "outputId": "ccc96a74-265a-478b-c0e7-46d668a93945"
      },
      "execution_count": null,
      "outputs": [
        {
          "output_type": "display_data",
          "data": {
            "text/plain": [
              "<Figure size 640x480 with 1 Axes>"
            ],
            "image/png": "[encoded data removed]"
          },
          "metadata": {}
        }
      ]
    },
    {
      "cell_type": "code",
      "source": [
        "# Try to get back the original data\n",
        "new_original_data = (transformed_data @ feature_matrix.T) + mean_vals\n",
        "\n",
        "# Compare a particular instance\n",
        "print(X[0], new_original_data[0])\n",
        "\n",
        "# We lost some information due to the reduction of dimension"
      ],
      "metadata": {
        "id": "wgtlyb5atRVg",
        "colab": {
          "base_uri": "https://localhost:8080/"
        },
        "outputId": "5964d6bd-d532-4071-9205-8cd2e0354be8"
      },
      "execution_count": null,
      "outputs": [
        {
          "output_type": "stream",
          "name": "stdout",
          "text": [
            "[-8.90476978 -6.69365528 -9.50011422  8.17595625] [-7.42217825 -7.71798492 -9.07983212  7.38098931]\n"
          ]
        }
      ]
    }
  ]
}