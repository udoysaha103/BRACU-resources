{
  "nbformat": 4,
  "nbformat_minor": 0,
  "metadata": {
    "colab": {
      "provenance": []
    },
    "kernelspec": {
      "name": "python3",
      "display_name": "Python 3"
    },
    "language_info": {
      "name": "python"
    }
  },
  "cells": [
    {
      "cell_type": "code",
      "execution_count": 67,
      "metadata": {
        "id": "6KXuj72_NCjy"
      },
      "outputs": [],
      "source": [
        "# Importing libraries\n",
        "\n",
        "import numpy as np\n",
        "import pandas as pd\n",
        "import matplotlib.pyplot as plt\n",
        "\n",
        "from sklearn.model_selection import train_test_split\n",
        "from sklearn.linear_model import LinearRegression,Ridge,Lasso,ElasticNet\n",
        "from sklearn.model_selection import train_test_split\n",
        "from sklearn.metrics import r2_score\n",
        "\n",
        "# ignore the warning messages\n",
        "import warnings\n",
        "warnings.filterwarnings('ignore')"
      ]
    },
    {
      "cell_type": "markdown",
      "source": [
        "#Exploratory Data Analysis (EDA)\n",
        "\n",
        "**Salary Dataset**\n",
        "- **YearsExperience:** Employee's years of experience.\n",
        "- **Salary [Target Column]:** Salary in terms of years of experience.\n",
        "\n",
        "\n"
      ],
      "metadata": {
        "id": "JhAolZaRNQgh"
      }
    },
    {
      "cell_type": "code",
      "source": [
        "# Importing dataset\n",
        "file_link = 'https://drive.google.com/file/d/1z_7EFfGJ42o0JCklJz0K77NTzPa-QynQ/view?usp=sharing'\n",
        "\n",
        "# get the id part of the file\n",
        "id = file_link.split(\"/\")[-2]\n",
        "\n",
        "# creating a new link using the id for better readability of csv file in pandas\n",
        "new_link = f'https://drive.google.com/uc?id={id}'\n",
        "df = pd.read_csv(new_link)\n",
        "\n",
        "\n",
        "X = df.iloc[:,:-1].values\n",
        "Y = df.iloc[:,1].values\n",
        "\n",
        "# Splitting dataset into train and test set\n",
        "\n",
        "X_train, X_test, y_train, y_test = train_test_split( X, Y, test_size = 1/3, random_state = 2 )\n",
        "\n",
        "\n",
        "# Linear Regression\n",
        "reg = LinearRegression()\n",
        "reg.fit(X_train,y_train)\n",
        "y_pred = reg.predict(X_test)\n",
        "print(r2_score(y_test,y_pred))\n",
        "\n",
        "# Ridge\n",
        "#alpha = L2 regularization (squared value), alpha  is not 0\n",
        "reg = Ridge(alpha=0.1)\n",
        "reg.fit(X_train,y_train)\n",
        "y_pred = reg.predict(X_test)\n",
        "print(r2_score(y_test,y_pred))\n",
        "\n",
        "# Lasso\n",
        "#alpha = L1 regularization (absolute value)\n",
        "reg = Lasso(alpha=0.01)\n",
        "reg.fit(X_train,y_train)\n",
        "y_pred = reg.predict(X_test)\n",
        "print(r2_score(y_test,y_pred))\n",
        "\n",
        "# ElasticNet\n",
        "#alpha = mult, l1_ratio = sum or combination\n",
        "reg = ElasticNet(alpha=0.01,l1_ratio=0.9)\n",
        "reg.fit(X_train,y_train)\n",
        "y_pred = reg.predict(X_test)\n",
        "print(r2_score(y_test,y_pred))\n",
        "\n"
      ],
      "metadata": {
        "colab": {
          "base_uri": "https://localhost:8080/"
        },
        "id": "w1JBuTAQOEg6",
        "outputId": "bcd95125-9130-40e8-d43e-8f6f05872aaa"
      },
      "execution_count": 68,
      "outputs": [
        {
          "output_type": "stream",
          "name": "stdout",
          "text": [
            "0.9041801644162628\n",
            "0.9042534117787511\n",
            "0.9041801799163933\n",
            "0.904194904373961\n"
          ]
        }
      ]
    },
    {
      "cell_type": "code",
      "source": [
        "# Elastic Net Regression\n",
        "\n",
        "class ElasticRegression():\n",
        "\n",
        "    def __init__( self, learning_rate, iterations, l1_penality, l2_penality ) :\n",
        "\n",
        "        self.learning_rate = learning_rate\n",
        "\n",
        "        self.iterations = iterations\n",
        "\n",
        "        self.l1_penality = l1_penality\n",
        "\n",
        "        self.l2_penality = l2_penality\n",
        "\n",
        "    # Function for model training\n",
        "    def fit( self, X, Y ) :\n",
        "\n",
        "        # no_of_training_examples, no_of_features\n",
        "\n",
        "        self.m, self.n = X.shape\n",
        "\n",
        "        # weight initialization\n",
        "\n",
        "        self.W = np.zeros( self.n )\n",
        "\n",
        "        self.b = 0\n",
        "\n",
        "        self.X = X\n",
        "\n",
        "        self.Y = Y\n",
        "\n",
        "        # use update_weights method to update weights in self.iterations\n",
        "\n",
        "        # print(self.W[0], self.b)\n",
        "        for i in range(self.iterations):\n",
        "          self.update_weights()\n",
        "\n",
        "\n",
        "    # Helper function to update weights in gradient=\n",
        "    def update_weights( self ):\n",
        "        Y_pred = self.predict( self.X )\n",
        "\n",
        "        # calculate gradients\n",
        "        # loss function -> Loss = sum( {y-(mx+c)}^2 ) + ( l1 * |m| ) + ( l2 * m^2 )\n",
        "        # gradient -> dLoss/dm = sum( 2*{y-(mx+c)}*(-x) ) + ( l1*(m/|m|) ) + ( 2*l2*m )\n",
        "        # gradient -> dLoss/dc = sum( 2*{y-(mx+c)}*(-1) )\n",
        "        dW = 0\n",
        "        dB = 0\n",
        "\n",
        "        #write necessary loop and conditions to calculate gradients\n",
        "        for i in range(self.m):\n",
        "          residual = self.Y[i] - Y_pred[i]  # y-(mx+c)\n",
        "          dW += 2 * residual * (- self.X[i][0])  # 2*{y-(mx+c)}*(-x)\n",
        "          dB += 2 * residual * (- 1)  # 2*{y-(mx+c)}*(-1)\n",
        "\n",
        "        dW += (self.l1_penality * (1 if self.W[0] >= 0 else -1))  # l1*(m/|m|)\n",
        "        dW += (2 * self.l2_penality * self.W[0])  # 2*l2*m\n",
        "\n",
        "        # update weights for self.W and self.b and return self\n",
        "        self.W[0] -= self.learning_rate * dW\n",
        "        self.b -= self.learning_rate * dB\n",
        "\n",
        "        # print(self.W[0], self.b,\"||\", dW, dB, (self.Y-Y_pred).sum())\n",
        "        return self\n",
        "\n",
        "\n",
        "    # Hypothetical function  h( x )\n",
        "\n",
        "    def predict( self, X ) :\n",
        "\n",
        "        return X.dot( self.W ) + self.b\n",
        "\n",
        "# Model training\n",
        "model = ElasticRegression( iterations = 1000,  learning_rate = 0.001, l1_penality = 500, l2_penality = 1 )\n",
        "model.fit( X_train, y_train )\n",
        "# Prediction on test set\n",
        "Y_pred = model.predict( X_test )\n",
        "\n",
        "print( \"Predicted values \", np.round( Y_pred[:3], 2 ) )\n",
        "\n",
        "print( \"Real values      \", y_test[:3] )\n",
        "\n",
        "print( \"Trained W        \", round( model.W[0], 2 ) )\n",
        "\n",
        "print( \"Trained b        \", round( model.b, 2 ) )\n",
        "\n",
        "# Visualization on test set\n",
        "\n",
        "plt.scatter( X_test, y_test, color = 'blue' )\n",
        "\n",
        "plt.plot( X_test, Y_pred, color = 'orange' )\n",
        "\n",
        "plt.title( 'Salary vs Experience' )\n",
        "\n",
        "plt.xlabel( 'Years of Experience' )\n",
        "\n",
        "plt.ylabel( 'Salary' )\n",
        "\n",
        "plt.show()"
      ],
      "metadata": {
        "colab": {
          "base_uri": "https://localhost:8080/",
          "height": 541
        },
        "id": "7gihQyGKUt3q",
        "outputId": "906a9f83-db77-404a-e881-b1d1e15cad85"
      },
      "execution_count": 69,
      "outputs": [
        {
          "output_type": "stream",
          "name": "stdout",
          "text": [
            "Predicted values  [36335.86 34445.01 66589.52]\n",
            "Real values       [46205. 39343. 61111.]\n",
            "Trained W         9454.27\n",
            "Trained b         24045.32\n"
          ]
        },
        {
          "output_type": "display_data",
          "data": {
            "text/plain": [
              "<Figure size 640x480 with 1 Axes>"
            ],
            "image/png": "[encoded data removed]"
          },
          "metadata": {}
        }
      ]
    }
  ]
}