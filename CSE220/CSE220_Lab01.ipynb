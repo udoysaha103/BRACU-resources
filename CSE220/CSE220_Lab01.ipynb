{
  "cells": [
    {
      "cell_type": "code",
      "execution_count": 2,
      "metadata": {
        "colab": {
          "base_uri": "https://localhost:8080/"
        },
        "id": "X59w8Dyk-ZYD",
        "outputId": "af53f107-fc88-4acf-e8d5-e2c5508ea1fb"
      },
      "outputs": [
        {
          "name": "stdout",
          "output_type": "stream",
          "text": [
            "[50, 60, 0, 0, 0, 0]\n"
          ]
        }
      ],
      "source": [
        "#1\n",
        "def shiftLeft(source, k):\n",
        "  # firstly shifting the last 'len(source)-k' items left by 'k' cells\n",
        "  for index in range(len(source)-k):\n",
        "    source[index] = source[index + k]\n",
        "  \n",
        "  # then filling up the last 'k' cells with 0\n",
        "  for index in range(len(source)-k, len(source)):\n",
        "    source[index] = 0\n",
        "\n",
        "\n",
        "source=[10,20,30,40,50,60]\n",
        "shiftLeft(source,4)\n",
        "print(source)"
      ]
    },
    {
      "cell_type": "code",
      "execution_count": null,
      "metadata": {
        "colab": {
          "base_uri": "https://localhost:8080/"
        },
        "id": "RREoC83o-cup",
        "outputId": "a76c9fd3-66b9-4754-e2f9-719a2bbb94b2"
      },
      "outputs": [
        {
          "name": "stdout",
          "output_type": "stream",
          "text": [
            "[50, 60, 10, 20, 30, 40]\n"
          ]
        }
      ],
      "source": [
        "#2\n",
        "def rotateLeft(source, k):\n",
        "  # rotating lelft 1 element at a time for 'k' times\n",
        "  for rotate in range(k):\n",
        "    first_element = source[0]\n",
        "\n",
        "    for index in range(len(source)-1):\n",
        "      source[index] = source[index + 1]\n",
        "\n",
        "    source[len(source) - 1] = first_element\n",
        "    \n",
        "\n",
        "source=[10,20,30,40,50,60]\n",
        "rotateLeft(source, 4)\n",
        "print(source)"
      ]
    },
    {
      "cell_type": "code",
      "execution_count": 3,
      "metadata": {
        "colab": {
          "base_uri": "https://localhost:8080/"
        },
        "id": "qkyi1cqHDz51",
        "outputId": "c2c15320-6931-470b-f4c2-73ec0fea1ce0"
      },
      "outputs": [
        {
          "name": "stdout",
          "output_type": "stream",
          "text": [
            "[0, 0, 0, 0, 10, 20]\n"
          ]
        }
      ],
      "source": [
        "#3\n",
        "def shiftRight(source, k):\n",
        "  # firstly shifting the first 'len(source)-k' items right by 'k' cells\n",
        "  for index in range(len(source)-1, k-1, -1):\n",
        "    source[index] = source[index - k]\n",
        "  \n",
        "  # then filling up the first 'k' cells with 0\n",
        "  for index in range(0, k):\n",
        "    source[index] = 0\n",
        "\n",
        "\n",
        "source=[10,20,30,40,50,60]\n",
        "shiftRight(source,4)\n",
        "print(source)"
      ]
    },
    {
      "cell_type": "code",
      "execution_count": null,
      "metadata": {
        "colab": {
          "base_uri": "https://localhost:8080/"
        },
        "id": "8taQDl2kGgjJ",
        "outputId": "1120ac8a-e105-4701-a63b-52ca36dd7034"
      },
      "outputs": [
        {
          "name": "stdout",
          "output_type": "stream",
          "text": [
            "[40, 50, 60, 10, 20, 30]\n"
          ]
        }
      ],
      "source": [
        "#4\n",
        "def rotateRight(source,k):\n",
        "  length = len(source)\n",
        "\n",
        "  # rotating right 1 element at a time for 'k' times\n",
        "  for rotate in range(k):\n",
        "    last_element = source[length-1]\n",
        "\n",
        "    for index in range(length-1, 0, -1):\n",
        "      source[index] = source[index - 1]\n",
        "\n",
        "    source[0] = last_element\n",
        "\n",
        "\n",
        "source=[10,20,30,40,50,60]\n",
        "rotateRight(source,3)\n",
        "print(source)"
      ]
    },
    {
      "cell_type": "code",
      "execution_count": 14,
      "metadata": {
        "colab": {
          "base_uri": "https://localhost:8080/"
        },
        "id": "ohV0760fHaPR",
        "outputId": "ad03d06b-adb8-421a-fe2e-66fb89a22600"
      },
      "outputs": [
        {
          "name": "stdout",
          "output_type": "stream",
          "text": [
            "[10, 20, 30, 40, 0, 0, 0]\n"
          ]
        }
      ],
      "source": [
        "#5\n",
        "def remove(source, size, idx):\n",
        "  if idx == size-1:  # if the last index needs to be removed, then the last index will be 0\n",
        "    source[idx] = 0\n",
        "  elif (idx < 0) or (idx >= size):  # discarding any invalid index to remove\n",
        "    return\n",
        "  else:\n",
        "    # shifting the values to the left starting after the given index\n",
        "    for index in range(idx, size - 1):\n",
        "      source[index] = source[index+1]\n",
        "    \n",
        "    # last element is 0 after shifting left\n",
        "    source[size-1] = 0\n",
        "\n",
        "\n",
        "source=[10,20,30,40,50,0,0]\n",
        "remove(source,5,4)\n",
        "print(source)"
      ]
    },
    {
      "cell_type": "code",
      "execution_count": 18,
      "metadata": {
        "colab": {
          "base_uri": "https://localhost:8080/"
        },
        "id": "TxNyBRsXJjOY",
        "outputId": "d103b153-d567-4500-faae-9379d3194846"
      },
      "outputs": [
        {
          "name": "stdout",
          "output_type": "stream",
          "text": [
            "[2, 30, 2, 50, 2, 2, 0, 0, 0]\n"
          ]
        }
      ],
      "source": [
        "#6\n",
        "def remove(source, size, idx):\n",
        "  if idx == size-1:  # if the last index needs to be removed, then the last index will be 0\n",
        "    source[idx] = 0\n",
        "  elif (idx < 0) or (idx >= size):  # discarding any invalid index to remove\n",
        "    return\n",
        "  else:\n",
        "    # shifting the values to the left starting after the given index\n",
        "    for index in range(idx, size - 1):\n",
        "      source[index] = source[index+1]\n",
        "    \n",
        "    # last element is 0 after shifting left\n",
        "    source[size-1] = 0\n",
        "\n",
        "def removeAll(source, size, element):\n",
        "  index = 0\n",
        "  while index < size:  # checking all valid indexes\n",
        "    # removing if 'element' found at index, otherwise ignoring that index\n",
        "    if source[index] == element:\n",
        "      remove(source, size, index)\n",
        "      size -= 1\n",
        "    else:\n",
        "      index += 1\n",
        "\n",
        "\n",
        "source=[10,2,30,2,50,2,2,0,0]\n",
        "removeAll(source,7,2)\n",
        "print(source)"
      ]
    },
    {
      "cell_type": "code",
      "execution_count": null,
      "metadata": {
        "colab": {
          "base_uri": "https://localhost:8080/"
        },
        "id": "WSLLj4CHMFpv",
        "outputId": "4c0ab404-6645-450c-e596-71db9944742b"
      },
      "outputs": [
        {
          "name": "stdout",
          "output_type": "stream",
          "text": [
            "True\n"
          ]
        }
      ],
      "source": [
        "#7\n",
        "def beam_balance(array):\n",
        "  length = len(array)\n",
        "\n",
        "  for index in range(1, length):\n",
        "    # checking for the left side of the beam upto position 'i-1'\n",
        "    sum_left = 0\n",
        "    for index2 in range(index):\n",
        "      sum_left += array[index2]\n",
        "    \n",
        "    # checking for the right side of the beam from position 'i'\n",
        "    sum_right = 0\n",
        "    for index2 in range(index, length):\n",
        "      sum_right += array[index2]\n",
        "    \n",
        "    # true if the both sides are equal\n",
        "    if sum_left == sum_right:\n",
        "      return True\n",
        "  \n",
        "  # if no such position of 'i' is found, returning false\n",
        "  return False\n",
        "\n",
        "\n",
        "print(beam_balance([1, 1, 1, 2, 1]))"
      ]
    },
    {
      "cell_type": "code",
      "execution_count": null,
      "metadata": {
        "colab": {
          "base_uri": "https://localhost:8080/"
        },
        "id": "lLWWOrvzWYxk",
        "outputId": "405b619f-4730-422e-d73a-f9de116837e6"
      },
      "outputs": [
        {
          "name": "stdout",
          "output_type": "stream",
          "text": [
            "[0, 0, 0, 1, 0, 0, 2, 1, 0, 3, 2, 1, 4, 3, 2, 1]\n"
          ]
        }
      ],
      "source": [
        "#8\n",
        "def array_builder(n):\n",
        "  array = [0] * (n*n)  # firstly taking an empty array of length (n*n)\n",
        "\n",
        "  index = 0\n",
        "  for value in range(1, n+1):  # iterating through the major groups of the task\n",
        "    for zero in range(n - value):  # adding the required zeroes at the first of any major group\n",
        "      array[index] = 0\n",
        "      index += 1\n",
        "    for num in range(value, 0, -1):  # adding the values for the minor group in reverse order, maximum = value of major group\n",
        "      array[index] = num\n",
        "      index += 1\n",
        "  \n",
        "  return array\n",
        "\n",
        "\n",
        "print(array_builder(4))"
      ]
    },
    {
      "cell_type": "code",
      "execution_count": null,
      "metadata": {
        "colab": {
          "base_uri": "https://localhost:8080/"
        },
        "id": "4BU9mYz3XtxG",
        "outputId": "89090327-b705-420c-eb3c-8530685baf94"
      },
      "outputs": [
        {
          "name": "stdout",
          "output_type": "stream",
          "text": [
            "3\n"
          ]
        }
      ],
      "source": [
        "#9\n",
        "def bunch_calculator(array):\n",
        "  index = 0\n",
        "  length = len(array)\n",
        "  max_bunch_length = 0  # at first it is set to 0, cause no bunch is found yet\n",
        "\n",
        "  while index < length-1:\n",
        "    if array[index] == array[index + 1]:  # bunch found\n",
        "      new_bunch_length = 1\n",
        "      index += 1\n",
        "\n",
        "      # starting to check from the next index for the whole bunch\n",
        "      while index < length:\n",
        "        if array[index] == array[index-1]:  # continue to add as a bunch\n",
        "          new_bunch_length += 1\n",
        "          index += 1\n",
        "        else:  # bunch ends\n",
        "          break\n",
        "      \n",
        "      if new_bunch_length > max_bunch_length:  # if new bunch is greater than the max bunch, new bunch is the new max bunch\n",
        "        max_bunch_length = new_bunch_length\n",
        "\n",
        "    else:  # if bunch not found for current index, skip to the next index\n",
        "      index += 1\n",
        "  \n",
        "  if max_bunch_length == 0:  # when there is no bunch possible, 1 is the maximum bunch length, since no repeating adjacent element\n",
        "    max_bunch_length = 1\n",
        "  \n",
        "  # finally returning the value\n",
        "  return max_bunch_length\n",
        "\n",
        "\n",
        "print(bunch_calculator([1, 2, 2, 3, 4, 4, 4]))"
      ]
    },
    {
      "cell_type": "code",
      "execution_count": null,
      "metadata": {
        "colab": {
          "base_uri": "https://localhost:8080/"
        },
        "id": "y1zuwsRLD0qc",
        "outputId": "55f2d4b1-14d8-4ad7-c9f0-aacecf5e2cde"
      },
      "outputs": [
        {
          "name": "stdout",
          "output_type": "stream",
          "text": [
            "True\n"
          ]
        }
      ],
      "source": [
        "#10\n",
        "def repetition_calculator(array):\n",
        "  length = len(array)\n",
        "  unique_characters = [0] * length  # to store the unique numbers\n",
        "  frequencies = [0] * length  # to store the frequencies of unique numbers\n",
        "  index1 = 0  # this will be used for the last valid index to add a new value to the arrays\n",
        "\n",
        "  # including the first number of source array to the helping arrays\n",
        "  unique_characters[index1] = array[0]\n",
        "  frequencies[index1] = 1\n",
        "  index1 += 1\n",
        "\n",
        "  for index_array in range(1, length):  # checking the second number onwards for frequency\n",
        "    num = array[index_array]\n",
        "    index3 = -1  # -1 means an invalid index\n",
        "\n",
        "    # checking if 'num' is in unique characters\n",
        "    for index in range(index1):\n",
        "      if unique_characters[index] == num:\n",
        "        index3 = index\n",
        "        break\n",
        "    \n",
        "    if index3 != -1:  # means 'num' is in unique characters, now increasing its frequency by one\n",
        "      frequencies[index3] += 1\n",
        "    else:  # means 'num' is mot in unique characters, so adding it in the unique characters\n",
        "      unique_characters[index1] = num\n",
        "      frequencies[index1] = 1\n",
        "      index1 += 1\n",
        "\n",
        "  # checking for multiple occurrence of same frequency\n",
        "  for index1 in range(length - 1):\n",
        "    if frequencies[index1] > 1:  # 1 as a frequency is not valid for the task\n",
        "      for index2 in range(index1 + 1, length):\n",
        "        if frequencies[index1] == frequencies[index2]:  # if multiple occurrence of same frequency found, returning true\n",
        "          return True\n",
        "    elif frequencies[index1] == 0:  # 0 as a frequency means no unique character's frequency left to calculate\n",
        "      break\n",
        "  \n",
        "  # if no multiple frequency found, return false\n",
        "  return False\n",
        "\n",
        "\n",
        "print(repetition_calculator([4,5,6,6,4,3,6,4]))"
      ]
    }
  ],
  "metadata": {
    "colab": {
      "collapsed_sections": [],
      "provenance": []
    },
    "kernelspec": {
      "display_name": "Python 3.9.13 64-bit (microsoft store)",
      "language": "python",
      "name": "python3"
    },
    "language_info": {
      "name": "python",
      "version": "3.9.13"
    },
    "vscode": {
      "interpreter": {
        "hash": "f904093a4a70f1be7e8a1fc1c2a61903e4605e2f5ce2ec157b91fa225792f75e"
      }
    }
  },
  "nbformat": 4,
  "nbformat_minor": 0
}
